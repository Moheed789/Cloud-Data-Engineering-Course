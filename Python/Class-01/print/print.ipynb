{
 "cells": [
  {
   "cell_type": "code",
   "execution_count": 1,
   "id": "57a82e04",
   "metadata": {
    "vscode": {
     "languageId": "plaintext"
    }
   },
   "outputs": [
    {
     "name": "stdout",
     "output_type": "stream",
     "text": [
      "Hello Batch-3\n"
     ]
    }
   ],
   "source": [
    "print('Hello Batch-3')"
   ]
  },
  {
   "cell_type": "code",
   "execution_count": 2,
   "id": "3bbae68c-f119-4729-8efb-dc77e84807d0",
   "metadata": {},
   "outputs": [
    {
     "name": "stdout",
     "output_type": "stream",
     "text": [
      "Hello\n"
     ]
    }
   ],
   "source": [
    "print(\"Hello\")"
   ]
  },
  {
   "cell_type": "code",
   "execution_count": 4,
   "id": "7e8accc9-5bbb-43ac-8416-cc166a0e68ef",
   "metadata": {},
   "outputs": [
    {
     "name": "stdout",
     "output_type": "stream",
     "text": [
      "Hello\n",
      "    Batch-3\n",
      "\n",
      "    asdfasd\n",
      "    asdfsd\n",
      "      \n"
     ]
    }
   ],
   "source": [
    "print(\"\"\"Hello\n",
    "    Batch-3\n",
    "\n",
    "    asdfasd\n",
    "    asdfsd\n",
    "      \"\"\")"
   ]
  },
  {
   "cell_type": "code",
   "execution_count": null,
   "id": "a59c1289-8cb7-488f-b7f1-f57fb50d765c",
   "metadata": {},
   "outputs": [],
   "source": []
  }
 ],
 "metadata": {
  "kernelspec": {
   "display_name": "Python 3 (ipykernel)",
   "language": "python",
   "name": "python3"
  },
  "language_info": {
   "codemirror_mode": {
    "name": "ipython",
    "version": 3
   },
   "file_extension": ".py",
   "mimetype": "text/x-python",
   "name": "python",
   "nbconvert_exporter": "python",
   "pygments_lexer": "ipython3",
   "version": "3.13.5"
  }
 },
 "nbformat": 4,
 "nbformat_minor": 5
}
