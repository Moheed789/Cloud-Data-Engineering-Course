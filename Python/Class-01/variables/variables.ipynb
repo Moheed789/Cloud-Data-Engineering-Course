{
 "cells": [
  {
   "cell_type": "markdown",
   "id": "1f66a846-e832-442f-a5f5-70fc8c113ab6",
   "metadata": {},
   "source": [
    "## Variables for String"
   ]
  },
  {
   "cell_type": "code",
   "execution_count": 2,
   "id": "b92b58c7-7ad5-4ad5-9e44-9e8b94f13c2a",
   "metadata": {},
   "outputs": [
    {
     "name": "stdout",
     "output_type": "stream",
     "text": [
      "Moheed Siddiqui\n"
     ]
    }
   ],
   "source": [
    "first_name = 'Moheed'\n",
    "last_name = \"Siddiqui\"\n",
    "\n",
    "print(first_name + \" \" + last_name)"
   ]
  },
  {
   "cell_type": "code",
   "execution_count": 3,
   "id": "8861e9e7-d39e-46b7-8cc7-40ff6bb0e85f",
   "metadata": {},
   "outputs": [
    {
     "data": {
      "text/plain": [
       "str"
      ]
     },
     "execution_count": 3,
     "metadata": {},
     "output_type": "execute_result"
    }
   ],
   "source": [
    "type(first_name)"
   ]
  },
  {
   "cell_type": "code",
   "execution_count": 4,
   "id": "243c89ef-938c-4947-8a52-a261460d6d3e",
   "metadata": {},
   "outputs": [],
   "source": [
    "name_first = \"moheed\""
   ]
  },
  {
   "cell_type": "markdown",
   "id": "835b0d70-60fa-46e0-99d8-765df3a84fba",
   "metadata": {},
   "source": [
    "## Variables for Numbers"
   ]
  },
  {
   "cell_type": "code",
   "execution_count": 5,
   "id": "2c078212-2d1f-46e1-aefb-10efa15d0768",
   "metadata": {},
   "outputs": [],
   "source": [
    "age = 30"
   ]
  },
  {
   "cell_type": "code",
   "execution_count": 6,
   "id": "dde2811b-de77-4b67-b2a9-67c346eaf65c",
   "metadata": {},
   "outputs": [
    {
     "data": {
      "text/plain": [
       "30"
      ]
     },
     "execution_count": 6,
     "metadata": {},
     "output_type": "execute_result"
    }
   ],
   "source": [
    "age"
   ]
  },
  {
   "cell_type": "code",
   "execution_count": 7,
   "id": "b3cb55dc-666b-43cf-bd08-b7a5e9b4b158",
   "metadata": {},
   "outputs": [
    {
     "data": {
      "text/plain": [
       "int"
      ]
     },
     "execution_count": 7,
     "metadata": {},
     "output_type": "execute_result"
    }
   ],
   "source": [
    "type(age)"
   ]
  },
  {
   "cell_type": "code",
   "execution_count": 8,
   "id": "bb7250c5-6e2e-402f-845c-4f32b18cc5dd",
   "metadata": {},
   "outputs": [],
   "source": [
    "age1 = '30'"
   ]
  },
  {
   "cell_type": "code",
   "execution_count": 9,
   "id": "f64ab33c-3f05-498a-a454-139e7f1cc2c4",
   "metadata": {},
   "outputs": [
    {
     "data": {
      "text/plain": [
       "'30'"
      ]
     },
     "execution_count": 9,
     "metadata": {},
     "output_type": "execute_result"
    }
   ],
   "source": [
    "age1"
   ]
  },
  {
   "cell_type": "code",
   "execution_count": 10,
   "id": "ee1b7761-f024-4555-8ac3-e73cb80ccff3",
   "metadata": {},
   "outputs": [
    {
     "data": {
      "text/plain": [
       "str"
      ]
     },
     "execution_count": 10,
     "metadata": {},
     "output_type": "execute_result"
    }
   ],
   "source": [
    "type(age1)"
   ]
  },
  {
   "cell_type": "code",
   "execution_count": 11,
   "id": "3b60f8ba-a9df-435c-93da-11e6e54a5cf4",
   "metadata": {},
   "outputs": [
    {
     "data": {
      "text/plain": [
       "70"
      ]
     },
     "execution_count": 11,
     "metadata": {},
     "output_type": "execute_result"
    }
   ],
   "source": [
    "age2 = 40\n",
    "age + age2"
   ]
  },
  {
   "cell_type": "markdown",
   "id": "3f8461a6-6785-445d-a002-3d857e77ac0e",
   "metadata": {},
   "source": [
    "## Math expressions: Familiar operators"
   ]
  },
  {
   "cell_type": "code",
   "execution_count": 12,
   "id": "3067533b-9f8b-4c5a-bbcb-540d91d6e6de",
   "metadata": {},
   "outputs": [
    {
     "data": {
      "text/plain": [
       "6"
      ]
     },
     "execution_count": 12,
     "metadata": {},
     "output_type": "execute_result"
    }
   ],
   "source": [
    "2 + 4"
   ]
  },
  {
   "cell_type": "code",
   "execution_count": 13,
   "id": "a9f5981f-5458-4341-a4fb-8dc02e24f44e",
   "metadata": {},
   "outputs": [
    {
     "data": {
      "text/plain": [
       "3"
      ]
     },
     "execution_count": 13,
     "metadata": {},
     "output_type": "execute_result"
    }
   ],
   "source": [
    "5 - 2"
   ]
  },
  {
   "cell_type": "code",
   "execution_count": 14,
   "id": "666bd436-66f0-4e6b-b67a-cdd862d09ea3",
   "metadata": {},
   "outputs": [
    {
     "name": "stdout",
     "output_type": "stream",
     "text": [
      "string:  Moheed\n",
      "Integer:  30\n",
      "<class 'float'>\n",
      "float:  40.5\n"
     ]
    }
   ],
   "source": [
    "name = \"Moheed\"\n",
    "print(\"string: \", name)\n",
    "age = 30\n",
    "print(\"Integer: \", age)\n",
    "weigth = 40.5\n",
    "print(type(weigth))\n",
    "print(\"float: \", weigth)"
   ]
  },
  {
   "cell_type": "code",
   "execution_count": 18,
   "id": "59c99154-6eec-4c77-8609-967704bd8643",
   "metadata": {},
   "outputs": [
    {
     "name": "stdout",
     "output_type": "stream",
     "text": [
      "my Father\"s name is Muhammad Anwar\n"
     ]
    }
   ],
   "source": [
    "print('my Father\"s name is Muhammad Anwar')"
   ]
  },
  {
   "cell_type": "code",
   "execution_count": 19,
   "id": "6e180336-4951-424b-bd10-20ba14c996e6",
   "metadata": {},
   "outputs": [
    {
     "data": {
      "text/plain": [
       "8"
      ]
     },
     "execution_count": 19,
     "metadata": {},
     "output_type": "execute_result"
    }
   ],
   "source": [
    "2**3"
   ]
  },
  {
   "cell_type": "code",
   "execution_count": 20,
   "id": "d7fb1ba5-b822-4095-bcce-fae8b60c3b4a",
   "metadata": {},
   "outputs": [
    {
     "data": {
      "text/plain": [
       "6"
      ]
     },
     "execution_count": 20,
     "metadata": {},
     "output_type": "execute_result"
    }
   ],
   "source": [
    "2*3"
   ]
  },
  {
   "cell_type": "code",
   "execution_count": 21,
   "id": "4f5cc6e2-a710-4642-b9af-60880f92a278",
   "metadata": {},
   "outputs": [
    {
     "data": {
      "text/plain": [
       "2.0"
      ]
     },
     "execution_count": 21,
     "metadata": {},
     "output_type": "execute_result"
    }
   ],
   "source": [
    "4/2"
   ]
  },
  {
   "cell_type": "code",
   "execution_count": 22,
   "id": "9ccde56a-518f-4c51-85da-2ad34962f04a",
   "metadata": {},
   "outputs": [
    {
     "data": {
      "text/plain": [
       "2"
      ]
     },
     "execution_count": 22,
     "metadata": {},
     "output_type": "execute_result"
    }
   ],
   "source": [
    "4//2"
   ]
  },
  {
   "cell_type": "code",
   "execution_count": 23,
   "id": "4ce1318e-dbcc-43d3-bedd-62c41d013e69",
   "metadata": {},
   "outputs": [],
   "source": [
    "x = 20\n",
    "y=4"
   ]
  },
  {
   "cell_type": "code",
   "execution_count": 24,
   "id": "f014e705-9519-4104-98e7-6ea697782e7a",
   "metadata": {},
   "outputs": [
    {
     "name": "stdout",
     "output_type": "stream",
     "text": [
      "True\n"
     ]
    }
   ],
   "source": [
    "print( x > y)"
   ]
  },
  {
   "cell_type": "code",
   "execution_count": 25,
   "id": "11672a44-1019-48a5-a19a-b71e182adc40",
   "metadata": {},
   "outputs": [],
   "source": [
    "x += 4"
   ]
  },
  {
   "cell_type": "code",
   "execution_count": 26,
   "id": "3e03c043-6cf4-489e-8e5d-e70b184e0eec",
   "metadata": {},
   "outputs": [
    {
     "data": {
      "text/plain": [
       "24"
      ]
     },
     "execution_count": 26,
     "metadata": {},
     "output_type": "execute_result"
    }
   ],
   "source": [
    "x"
   ]
  },
  {
   "cell_type": "code",
   "execution_count": 27,
   "id": "5ab524b8-6018-4f0d-a897-a59be2c6fe35",
   "metadata": {},
   "outputs": [],
   "source": [
    "x += 6"
   ]
  },
  {
   "cell_type": "code",
   "execution_count": 28,
   "id": "8b9d8e07-8b2b-4524-a1df-2dfcb32ca4df",
   "metadata": {},
   "outputs": [
    {
     "data": {
      "text/plain": [
       "30"
      ]
     },
     "execution_count": 28,
     "metadata": {},
     "output_type": "execute_result"
    }
   ],
   "source": [
    "x"
   ]
  },
  {
   "cell_type": "code",
   "execution_count": 29,
   "id": "a0e7b518-b132-4f7c-b817-74d26e84660f",
   "metadata": {},
   "outputs": [],
   "source": [
    "x -= y"
   ]
  },
  {
   "cell_type": "code",
   "execution_count": 30,
   "id": "70f91fa2-223b-4e22-b5f3-c021b2358999",
   "metadata": {},
   "outputs": [
    {
     "data": {
      "text/plain": [
       "26"
      ]
     },
     "execution_count": 30,
     "metadata": {},
     "output_type": "execute_result"
    }
   ],
   "source": [
    "x"
   ]
  },
  {
   "cell_type": "code",
   "execution_count": 31,
   "id": "a2ae7c35-3cb3-4a08-90cd-eae581a25243",
   "metadata": {},
   "outputs": [],
   "source": [
    "x *= y"
   ]
  },
  {
   "cell_type": "code",
   "execution_count": 32,
   "id": "14ff183a-4e5e-4d49-b4b6-cea7d92b535c",
   "metadata": {},
   "outputs": [
    {
     "data": {
      "text/plain": [
       "104"
      ]
     },
     "execution_count": 32,
     "metadata": {},
     "output_type": "execute_result"
    }
   ],
   "source": [
    "x"
   ]
  },
  {
   "cell_type": "code",
   "execution_count": null,
   "id": "058fba12-b058-4eba-b721-3bfb4f001a34",
   "metadata": {},
   "outputs": [],
   "source": []
  }
 ],
 "metadata": {
  "kernelspec": {
   "display_name": "Python 3 (ipykernel)",
   "language": "python",
   "name": "python3"
  },
  "language_info": {
   "codemirror_mode": {
    "name": "ipython",
    "version": 3
   },
   "file_extension": ".py",
   "mimetype": "text/x-python",
   "name": "python",
   "nbconvert_exporter": "python",
   "pygments_lexer": "ipython3",
   "version": "3.13.5"
  }
 },
 "nbformat": 4,
 "nbformat_minor": 5
}
