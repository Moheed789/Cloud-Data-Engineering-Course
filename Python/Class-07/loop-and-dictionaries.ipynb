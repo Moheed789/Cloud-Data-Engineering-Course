{
 "cells": [
  {
   "cell_type": "markdown",
   "id": "23e23553-4bd5-4a5f-9bb6-f2b6908beee8",
   "metadata": {},
   "source": [
    "# Loops"
   ]
  },
  {
   "cell_type": "markdown",
   "id": "a3738c81-986e-4d1c-9943-2008e67c79e9",
   "metadata": {},
   "source": [
    "### Syntax"
   ]
  },
  {
   "cell_type": "code",
   "execution_count": null,
   "id": "1586e054-d5e2-4db0-8c8f-4763866a4ce7",
   "metadata": {},
   "outputs": [],
   "source": [
    "for temp_var in itreatable([1,2,3,4,5]):\n",
    "    loop_body"
   ]
  },
  {
   "cell_type": "code",
   "execution_count": 3,
   "id": "3e1c725b-93ac-40e1-b09c-63df7db149cf",
   "metadata": {},
   "outputs": [
    {
     "name": "stdout",
     "output_type": "stream",
     "text": [
      "1\n",
      "2\n",
      "3\n",
      "4\n",
      "5\n"
     ]
    }
   ],
   "source": [
    "for temp_var in ([1,2,3,4,5]):\n",
    "    print(temp_var)"
   ]
  },
  {
   "cell_type": "code",
   "execution_count": 1,
   "id": "888d8a0b-a909-488e-95d8-a66103d405de",
   "metadata": {},
   "outputs": [
    {
     "name": "stdout",
     "output_type": "stream",
     "text": [
      "Moheed\n",
      "Siddiqui\n",
      "25\n",
      "25.5\n",
      "True\n"
     ]
    }
   ],
   "source": [
    "for temp in ('Moheed', 'Siddiqui', 25, 25.5, True):\n",
    "    print(temp)"
   ]
  },
  {
   "cell_type": "code",
   "execution_count": 2,
   "id": "0fe0fcd5-29a2-4a96-a48f-63fecb608cd8",
   "metadata": {},
   "outputs": [
    {
     "name": "stdout",
     "output_type": "stream",
     "text": [
      "1\n",
      "2\n",
      "3\n",
      "4\n",
      "5\n",
      "b\n",
      "a\n"
     ]
    }
   ],
   "source": [
    "for temp in {1,2,3,4,5,'a', 'b'}:\n",
    "    print(temp)"
   ]
  },
  {
   "cell_type": "markdown",
   "id": "a0a8425d-e7ed-4e57-b236-4812a42edf6c",
   "metadata": {},
   "source": [
    "### Tasks"
   ]
  },
  {
   "cell_type": "markdown",
   "id": "238b06bb-fd6e-4b36-90bc-89d2e6c8634c",
   "metadata": {},
   "source": [
    "#### 6. Write a program that print Happy Birthday five times on screen"
   ]
  },
  {
   "cell_type": "code",
   "execution_count": 3,
   "id": "beb6c26a-af6c-4df7-b8b5-36e111786089",
   "metadata": {},
   "outputs": [
    {
     "name": "stdout",
     "output_type": "stream",
     "text": [
      "Happy Birthday!\n",
      "Happy Birthday!\n",
      "Happy Birthday!\n",
      "Happy Birthday!\n",
      "Happy Birthday!\n"
     ]
    }
   ],
   "source": [
    "for i in range(5):\n",
    "    print(\"Happy Birthday!\")"
   ]
  },
  {
   "cell_type": "markdown",
   "id": "b6aac03e-1b21-4323-a9d0-7e1d5a085837",
   "metadata": {},
   "source": [
    "#### 7. Write a programs that take a number n as input the user "
   ]
  },
  {
   "cell_type": "code",
   "execution_count": 24,
   "id": "d7ced87c-eca7-4a3f-ac1f-3a1b6566510b",
   "metadata": {},
   "outputs": [
    {
     "name": "stdin",
     "output_type": "stream",
     "text": [
      "Enter a number:  6\n"
     ]
    },
    {
     "name": "stdout",
     "output_type": "stream",
     "text": [
      "The first 6 term of this series:\n",
      "1\n",
      "4\n",
      "9\n",
      "16\n",
      "25\n",
      "36\n"
     ]
    }
   ],
   "source": [
    "num = int(input(\"Enter a number: \"))\n",
    "print(f\"The first {num} term of this series:\")\n",
    "for i in range(num):\n",
    "    print((i+1)**2)"
   ]
  },
  {
   "cell_type": "markdown",
   "id": "c543c7ba-bf6b-4a8b-ac07-2ec3b68b955f",
   "metadata": {},
   "source": [
    "#### 8. Write a program that prompts the user to input a number and prints its multiplication table."
   ]
  },
  {
   "cell_type": "code",
   "execution_count": 7,
   "id": "a572aadb-eb2a-4d0e-a407-60486604ccb8",
   "metadata": {},
   "outputs": [
    {
     "name": "stdin",
     "output_type": "stream",
     "text": [
      "Enter a multiple number:  3\n",
      "Enter a number of table range:  11\n"
     ]
    }
   ],
   "source": [
    "table = int(input(\"Enter a multiple number: \"))\n",
    "times = int(input(\"Enter a number of table range: \"))"
   ]
  },
  {
   "cell_type": "code",
   "execution_count": 8,
   "id": "a889a5bb-3629-4942-acd0-b6063c25d7fb",
   "metadata": {},
   "outputs": [
    {
     "name": "stdout",
     "output_type": "stream",
     "text": [
      "3 x 0 = 0\n",
      "3 x 1 = 3\n",
      "3 x 2 = 6\n",
      "3 x 3 = 9\n",
      "3 x 4 = 12\n",
      "3 x 5 = 15\n",
      "3 x 6 = 18\n",
      "3 x 7 = 21\n",
      "3 x 8 = 24\n",
      "3 x 9 = 27\n",
      "3 x 10 = 30\n"
     ]
    }
   ],
   "source": [
    "for i in range(times):\n",
    "    print(f\"{num} x {i} = {num * i}\")"
   ]
  },
  {
   "cell_type": "markdown",
   "id": "2ebd567e-cde1-4b7d-bee4-c3bde9d60d8a",
   "metadata": {},
   "source": [
    "#### Task: Print tables from 2 to 5 in such a way that every table print one time less than other."
   ]
  },
  {
   "cell_type": "code",
   "execution_count": 52,
   "id": "b7f41e4a-cf03-4581-a5dd-8eb110a5e412",
   "metadata": {},
   "outputs": [
    {
     "name": "stdin",
     "output_type": "stream",
     "text": [
      "Enter a starting number: 3\n",
      "Enter a ending number: 7\n",
      "How many times to print the table: 5\n"
     ]
    },
    {
     "name": "stdout",
     "output_type": "stream",
     "text": [
      "Multiplication Table of 3:\n",
      "3 x 1 = 3\n",
      "3 x 2 = 6\n",
      "3 x 3 = 9\n",
      "3 x 4 = 12\n",
      "3 x 5 = 15\n",
      "Multiplication Table of 4:\n",
      "4 x 1 = 4\n",
      "4 x 2 = 8\n",
      "4 x 3 = 12\n",
      "4 x 4 = 16\n",
      "Multiplication Table of 5:\n",
      "5 x 1 = 5\n",
      "5 x 2 = 10\n",
      "5 x 3 = 15\n",
      "Multiplication Table of 6:\n",
      "6 x 1 = 6\n",
      "6 x 2 = 12\n"
     ]
    }
   ],
   "source": [
    "start = int(input(\"Enter a starting number:\"))\n",
    "end = int(input(\"Enter a ending number:\"))\n",
    "times = int(input(\"How many times to print the table:\"))\n",
    "\n",
    "for table in range(start, end):\n",
    "    print(f\"Multiplication Table of {table}:\")\n",
    "    for temp in range(times):\n",
    "        print(f\"{table} x {temp+1} = {table * (temp+1)}\")\n",
    "    times-=1"
   ]
  },
  {
   "cell_type": "markdown",
   "id": "85938de0-74cc-47dc-941f-d819250d025f",
   "metadata": {},
   "source": [
    "# Dictionaries"
   ]
  },
  {
   "cell_type": "markdown",
   "id": "20382d0d-0272-41b9-aa6e-c5f448dc7dfa",
   "metadata": {},
   "source": [
    "- Key : Value"
   ]
  },
  {
   "cell_type": "code",
   "execution_count": 54,
   "id": "eb9fde80-5d37-487f-b35e-9d4bf0f11e69",
   "metadata": {},
   "outputs": [
    {
     "data": {
      "text/plain": [
       "['Moheed', 'Siddiqui', 19, 21]"
      ]
     },
     "execution_count": 54,
     "metadata": {},
     "output_type": "execute_result"
    }
   ],
   "source": [
    "['Moheed', 'Siddiqui', 19, 21]"
   ]
  },
  {
   "cell_type": "code",
   "execution_count": 11,
   "id": "cb55ad5e-7db5-49da-9b02-52883bfb6958",
   "metadata": {},
   "outputs": [],
   "source": [
    "bio_data = {\n",
    "    \"f_name\": \"Moheed\",\n",
    "    \"l_name\": \"Siddiqui\",\n",
    "    \"age\": 19,\n",
    "    \"weight\": 21\n",
    "}"
   ]
  },
  {
   "cell_type": "code",
   "execution_count": 12,
   "id": "de637dfc-62a3-44e9-aae8-57dc44da7196",
   "metadata": {},
   "outputs": [
    {
     "data": {
      "text/plain": [
       "{'f_name': 'Moheed', 'l_name': 'Siddiqui', 'age': 19, 'weight': 21}"
      ]
     },
     "execution_count": 12,
     "metadata": {},
     "output_type": "execute_result"
    }
   ],
   "source": [
    "bio_data"
   ]
  },
  {
   "cell_type": "code",
   "execution_count": 13,
   "id": "40a8c7ba-bc23-4867-9031-f7ccdee19089",
   "metadata": {},
   "outputs": [
    {
     "data": {
      "text/plain": [
       "(dict, 1946308173440)"
      ]
     },
     "execution_count": 13,
     "metadata": {},
     "output_type": "execute_result"
    }
   ],
   "source": [
    "type(bio_data), id(bio_data)"
   ]
  },
  {
   "cell_type": "code",
   "execution_count": 14,
   "id": "f58af31f-bb93-4cdc-a7a0-3b16ea1a5ff4",
   "metadata": {},
   "outputs": [],
   "source": [
    "bio_data[\"is_present\"] = True"
   ]
  },
  {
   "cell_type": "code",
   "execution_count": 15,
   "id": "06500c77-ec73-4f10-a164-d4979080768c",
   "metadata": {},
   "outputs": [
    {
     "data": {
      "text/plain": [
       "{'f_name': 'Moheed',\n",
       " 'l_name': 'Siddiqui',\n",
       " 'age': 19,\n",
       " 'weight': 21,\n",
       " 'is_present': True}"
      ]
     },
     "execution_count": 15,
     "metadata": {},
     "output_type": "execute_result"
    }
   ],
   "source": [
    "bio_data"
   ]
  },
  {
   "cell_type": "code",
   "execution_count": 16,
   "id": "2a53b6b3-b9e3-42b1-8e5d-5366230b6664",
   "metadata": {},
   "outputs": [
    {
     "data": {
      "text/plain": [
       "dict_keys(['f_name', 'l_name', 'age', 'weight', 'is_present'])"
      ]
     },
     "execution_count": 16,
     "metadata": {},
     "output_type": "execute_result"
    }
   ],
   "source": [
    "bio_data.keys()"
   ]
  },
  {
   "cell_type": "code",
   "execution_count": 17,
   "id": "da783771-3fae-4925-bee5-90a8bcee8f6b",
   "metadata": {},
   "outputs": [
    {
     "data": {
      "text/plain": [
       "dict_items([('f_name', 'Moheed'), ('l_name', 'Siddiqui'), ('age', 19), ('weight', 21), ('is_present', True)])"
      ]
     },
     "execution_count": 17,
     "metadata": {},
     "output_type": "execute_result"
    }
   ],
   "source": [
    "bio_data.items()"
   ]
  },
  {
   "cell_type": "code",
   "execution_count": 18,
   "id": "6d4adc7f-eaad-46b0-8b57-4abd07e6fc6d",
   "metadata": {},
   "outputs": [
    {
     "data": {
      "text/plain": [
       "'Siddiqui'"
      ]
     },
     "execution_count": 18,
     "metadata": {},
     "output_type": "execute_result"
    }
   ],
   "source": [
    "bio_data.get(\"l_name\")"
   ]
  },
  {
   "cell_type": "code",
   "execution_count": 19,
   "id": "b42ce7f7-6b02-4226-8ec1-7ec48892e0ae",
   "metadata": {},
   "outputs": [
    {
     "data": {
      "text/plain": [
       "21"
      ]
     },
     "execution_count": 19,
     "metadata": {},
     "output_type": "execute_result"
    }
   ],
   "source": [
    "bio_data.pop(\"weight\")"
   ]
  },
  {
   "cell_type": "code",
   "execution_count": 20,
   "id": "d085e52b-f113-491b-baba-545cc51a8644",
   "metadata": {},
   "outputs": [
    {
     "data": {
      "text/plain": [
       "{'f_name': 'Moheed', 'l_name': 'Siddiqui', 'age': 19, 'is_present': True}"
      ]
     },
     "execution_count": 20,
     "metadata": {},
     "output_type": "execute_result"
    }
   ],
   "source": [
    "bio_data"
   ]
  },
  {
   "cell_type": "code",
   "execution_count": 21,
   "id": "4964741f-d49d-4a2f-96a4-e146d7b9feb1",
   "metadata": {},
   "outputs": [
    {
     "data": {
      "text/plain": [
       "('is_present', True)"
      ]
     },
     "execution_count": 21,
     "metadata": {},
     "output_type": "execute_result"
    }
   ],
   "source": [
    "bio_data.popitem()"
   ]
  },
  {
   "cell_type": "code",
   "execution_count": 22,
   "id": "b055da4d-dbdb-4ac8-b2ad-30ef7580f6d6",
   "metadata": {},
   "outputs": [
    {
     "data": {
      "text/plain": [
       "{'f_name': 'Moheed', 'l_name': 'Siddiqui', 'age': 19}"
      ]
     },
     "execution_count": 22,
     "metadata": {},
     "output_type": "execute_result"
    }
   ],
   "source": [
    "bio_data"
   ]
  },
  {
   "cell_type": "code",
   "execution_count": 23,
   "id": "f76776a9-29f3-45ab-94f8-4dc1672ed77a",
   "metadata": {},
   "outputs": [
    {
     "data": {
      "text/plain": [
       "22"
      ]
     },
     "execution_count": 23,
     "metadata": {},
     "output_type": "execute_result"
    }
   ],
   "source": [
    "bio_data.setdefault('weight', 22)"
   ]
  },
  {
   "cell_type": "code",
   "execution_count": 24,
   "id": "55c1b4fc-a37e-40eb-b865-3aab74ebf885",
   "metadata": {},
   "outputs": [
    {
     "data": {
      "text/plain": [
       "{'f_name': 'Moheed', 'l_name': 'Siddiqui', 'age': 19, 'weight': 22}"
      ]
     },
     "execution_count": 24,
     "metadata": {},
     "output_type": "execute_result"
    }
   ],
   "source": [
    "bio_data"
   ]
  },
  {
   "cell_type": "code",
   "execution_count": 25,
   "id": "bc32b29a-d44e-41fd-acce-fab1577cec96",
   "metadata": {},
   "outputs": [],
   "source": [
    "bio_data.update(age=20)"
   ]
  },
  {
   "cell_type": "code",
   "execution_count": 26,
   "id": "9311772c-0f7c-4ac0-b092-14cf3e472d6c",
   "metadata": {},
   "outputs": [
    {
     "data": {
      "text/plain": [
       "{'f_name': 'Moheed', 'l_name': 'Siddiqui', 'age': 20, 'weight': 22}"
      ]
     },
     "execution_count": 26,
     "metadata": {},
     "output_type": "execute_result"
    }
   ],
   "source": [
    "bio_data"
   ]
  },
  {
   "cell_type": "code",
   "execution_count": 27,
   "id": "517459b8-695b-4750-bf9d-cc80c91bb3a2",
   "metadata": {},
   "outputs": [
    {
     "data": {
      "text/plain": [
       "dict_values(['Moheed', 'Siddiqui', 20, 22])"
      ]
     },
     "execution_count": 27,
     "metadata": {},
     "output_type": "execute_result"
    }
   ],
   "source": [
    "bio_data.values()"
   ]
  },
  {
   "cell_type": "code",
   "execution_count": 28,
   "id": "c3e7c6a2-3e1a-48a0-83c2-a6df444de33c",
   "metadata": {},
   "outputs": [
    {
     "data": {
      "text/plain": [
       "{'f_name': 'Moheed', 'l_name': 'Siddiqui', 'age': 20, 'weight': 22}"
      ]
     },
     "execution_count": 28,
     "metadata": {},
     "output_type": "execute_result"
    }
   ],
   "source": [
    "bio_data"
   ]
  },
  {
   "cell_type": "markdown",
   "id": "8b8a6ff9-a86c-4169-8abe-90d7a8178c8a",
   "metadata": {},
   "source": [
    "# Looping on dictionaries"
   ]
  },
  {
   "cell_type": "code",
   "execution_count": 118,
   "id": "d2c3954d-25d4-4387-907a-0c61cf7a8a21",
   "metadata": {},
   "outputs": [
    {
     "data": {
      "text/plain": [
       "{'f_name': 'Moheed', 'l_name': 'Siddiqui', 'age': 20, 'weight': 22}"
      ]
     },
     "execution_count": 118,
     "metadata": {},
     "output_type": "execute_result"
    }
   ],
   "source": [
    "bio_data"
   ]
  },
  {
   "cell_type": "code",
   "execution_count": 119,
   "id": "b6ab6dcb-d303-4012-be19-beec2b96f20e",
   "metadata": {},
   "outputs": [
    {
     "name": "stdout",
     "output_type": "stream",
     "text": [
      "f_name\n",
      "l_name\n",
      "age\n",
      "weight\n"
     ]
    }
   ],
   "source": [
    "for i in bio_data:\n",
    "    print(i)"
   ]
  },
  {
   "cell_type": "code",
   "execution_count": 122,
   "id": "9207ef28-a1ff-4af2-8310-34b304e9138d",
   "metadata": {},
   "outputs": [
    {
     "name": "stdout",
     "output_type": "stream",
     "text": [
      "Moheed\n",
      "Siddiqui\n",
      "20\n",
      "22\n"
     ]
    }
   ],
   "source": [
    "for i in bio_data.values():\n",
    "    print(i)"
   ]
  },
  {
   "cell_type": "code",
   "execution_count": 123,
   "id": "a47d7726-840a-4f5f-b820-f84525815950",
   "metadata": {},
   "outputs": [
    {
     "name": "stdout",
     "output_type": "stream",
     "text": [
      "('f_name', 'Moheed')\n",
      "('l_name', 'Siddiqui')\n",
      "('age', 20)\n",
      "('weight', 22)\n"
     ]
    }
   ],
   "source": [
    "for i in bio_data.items():\n",
    "    print(i)"
   ]
  },
  {
   "cell_type": "code",
   "execution_count": 127,
   "id": "e5601316-7f64-44b8-914d-6e3be8d9e57d",
   "metadata": {},
   "outputs": [
    {
     "name": "stdout",
     "output_type": "stream",
     "text": [
      "f_name: Moheed\n",
      "l_name: Siddiqui\n",
      "age: 20\n",
      "weight: 22\n"
     ]
    }
   ],
   "source": [
    "for key, value in bio_data.items():\n",
    "    print(f\"{key}: {value}\")"
   ]
  },
  {
   "cell_type": "markdown",
   "id": "73eb8d14-6e34-48d3-ab6f-5c3ecd953835",
   "metadata": {},
   "source": [
    "## List Comprehension"
   ]
  },
  {
   "cell_type": "markdown",
   "id": "b5962add-5fd4-41a1-a88d-26239d6bb59e",
   "metadata": {},
   "source": [
    "#### Without conditions"
   ]
  },
  {
   "cell_type": "code",
   "execution_count": 31,
   "id": "59901e49-2661-42c5-93dd-fda62e24c9d9",
   "metadata": {},
   "outputs": [
    {
     "data": {
      "text/plain": [
       "[0, 1, 2, 3, 4, 5, 6, 7, 8, 9]"
      ]
     },
     "execution_count": 31,
     "metadata": {},
     "output_type": "execute_result"
    }
   ],
   "source": [
    "# normal way of code\n",
    "lst = []\n",
    "for temp in range(10):\n",
    "    lst.append(temp)\n",
    "lst"
   ]
  },
  {
   "cell_type": "code",
   "execution_count": 32,
   "id": "a7cb4970-c1eb-4f31-87c0-fa87407358c0",
   "metadata": {},
   "outputs": [
    {
     "data": {
      "text/plain": [
       "[0, 1, 2, 3, 4, 5, 6, 7, 8, 9]"
      ]
     },
     "execution_count": 32,
     "metadata": {},
     "output_type": "execute_result"
    }
   ],
   "source": [
    "# list comprehension\n",
    "[temp for temp in range(10)]"
   ]
  },
  {
   "cell_type": "markdown",
   "id": "aaea0b36-e804-469c-8d67-4257d182d283",
   "metadata": {},
   "source": [
    "#### With conditions"
   ]
  },
  {
   "cell_type": "code",
   "execution_count": 33,
   "id": "8e90d94d-96f9-46dc-a88c-c4ae8e373c89",
   "metadata": {},
   "outputs": [
    {
     "data": {
      "text/plain": [
       "[0, 'odd', 2, 'odd', 4, 'odd', 6, 'odd', 8, 'odd']"
      ]
     },
     "execution_count": 33,
     "metadata": {},
     "output_type": "execute_result"
    }
   ],
   "source": [
    "# normal way of code\n",
    "lst = []\n",
    "for temp in range(10):\n",
    "    if temp % 2 == 0:\n",
    "        lst.append(temp)\n",
    "    else:\n",
    "        lst.append('odd')\n",
    "lst"
   ]
  },
  {
   "cell_type": "code",
   "execution_count": 34,
   "id": "3cd950a1-9148-4218-8f18-320a28f14de8",
   "metadata": {},
   "outputs": [
    {
     "data": {
      "text/plain": [
       "[0, 'odd', 2, 'odd', 4, 'odd', 6, 'odd', 8, 'odd']"
      ]
     },
     "execution_count": 34,
     "metadata": {},
     "output_type": "execute_result"
    }
   ],
   "source": [
    "[temp if temp%2 ==0 else \"odd\" for temp in range(10) ]"
   ]
  },
  {
   "cell_type": "markdown",
   "id": "da24ed03-b430-4bb7-bc55-f2cc327e8521",
   "metadata": {},
   "source": [
    "## Dictionary Comprehension"
   ]
  },
  {
   "cell_type": "code",
   "execution_count": 35,
   "id": "4fa7aa53-ba7f-4b94-805b-8cb7a7ff1ba3",
   "metadata": {},
   "outputs": [],
   "source": [
    "lst1 = ['f_name', 'la_name', 'age', 'weight']\n",
    "lst2 = ['Qasim', 'Hassan', 18, 25]"
   ]
  },
  {
   "cell_type": "code",
   "execution_count": 36,
   "id": "d857f8e1-d89d-43ff-878a-3e416554efce",
   "metadata": {},
   "outputs": [
    {
     "data": {
      "text/plain": [
       "{'f_name': 'Qasim', 'la_name': 'Hassan', 'age': 18, 'weight': 25}"
      ]
     },
     "execution_count": 36,
     "metadata": {},
     "output_type": "execute_result"
    }
   ],
   "source": [
    "#normal way of coding\n",
    "bio_data = {}\n",
    "for temp in zip(lst1, lst2):\n",
    "    bio_data[temp[0]] = temp[1]\n",
    "bio_data"
   ]
  },
  {
   "cell_type": "code",
   "execution_count": 37,
   "id": "43ea84e3-b004-4bc2-a738-ec3ccca3420b",
   "metadata": {},
   "outputs": [
    {
     "data": {
      "text/plain": [
       "{'f_name': 'Qasim', 'la_name': 'Hassan', 'age': 18, 'weight': 25}"
      ]
     },
     "execution_count": 37,
     "metadata": {},
     "output_type": "execute_result"
    }
   ],
   "source": [
    "# dictionary comprehension\n",
    "{temp[0]:temp[1] for temp in zip(lst1, lst2) }"
   ]
  },
  {
   "cell_type": "markdown",
   "id": "268cfa4c-1f85-4b63-a0ba-cc0d294904a1",
   "metadata": {},
   "source": [
    "### Examples:"
   ]
  },
  {
   "cell_type": "code",
   "execution_count": 44,
   "id": "c3d6c051-7dca-45d9-871f-61b9ccd8d81a",
   "metadata": {},
   "outputs": [
    {
     "data": {
      "text/plain": [
       "[1, 9, 25, 49]"
      ]
     },
     "execution_count": 44,
     "metadata": {},
     "output_type": "execute_result"
    }
   ],
   "source": [
    "l = [i**2 for i in range(1, 8, 2)]\n",
    "l "
   ]
  },
  {
   "cell_type": "code",
   "execution_count": 45,
   "id": "a422fb31-09da-440b-bcb0-11396f47585f",
   "metadata": {},
   "outputs": [],
   "source": [
    "d = {ii:ii**2 for ii in range(5)}"
   ]
  },
  {
   "cell_type": "code",
   "execution_count": 46,
   "id": "9236642c-9c36-432e-8914-a5a8e6cd2b23",
   "metadata": {},
   "outputs": [
    {
     "data": {
      "text/plain": [
       "{0: 0, 1: 1, 2: 4, 3: 9, 4: 16}"
      ]
     },
     "execution_count": 46,
     "metadata": {},
     "output_type": "execute_result"
    }
   ],
   "source": [
    "d"
   ]
  },
  {
   "cell_type": "code",
   "execution_count": 47,
   "id": "f53de362-85aa-403a-b402-7120871b8a04",
   "metadata": {},
   "outputs": [],
   "source": [
    "result = {\"Ali\":80,\"Muhammad\":89,\"Usama\":69,\"Asad\":56}"
   ]
  },
  {
   "cell_type": "code",
   "execution_count": 48,
   "id": "331f89d2-1da2-4747-adf0-93a42c67b3e4",
   "metadata": {},
   "outputs": [],
   "source": [
    "passed = {name:marks for name,marks in result.items() if marks > 70 }"
   ]
  },
  {
   "cell_type": "code",
   "execution_count": 49,
   "id": "14e55650-4f99-4bc3-a396-b7334bf7d6cf",
   "metadata": {},
   "outputs": [
    {
     "data": {
      "text/plain": [
       "{'Ali': 80, 'Muhammad': 89}"
      ]
     },
     "execution_count": 49,
     "metadata": {},
     "output_type": "execute_result"
    }
   ],
   "source": [
    "passed"
   ]
  },
  {
   "cell_type": "code",
   "execution_count": null,
   "id": "01c1041d-f726-46d5-aba6-2880103d84d2",
   "metadata": {},
   "outputs": [],
   "source": []
  }
 ],
 "metadata": {
  "kernelspec": {
   "display_name": "Python 3 (ipykernel)",
   "language": "python",
   "name": "python3"
  },
  "language_info": {
   "codemirror_mode": {
    "name": "ipython",
    "version": 3
   },
   "file_extension": ".py",
   "mimetype": "text/x-python",
   "name": "python",
   "nbconvert_exporter": "python",
   "pygments_lexer": "ipython3",
   "version": "3.13.5"
  }
 },
 "nbformat": 4,
 "nbformat_minor": 5
}
