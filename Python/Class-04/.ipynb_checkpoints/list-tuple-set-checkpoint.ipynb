{
 "cells": [
  {
   "cell_type": "markdown",
   "id": "292af002-201f-4dc4-a0a4-51361117ac21",
   "metadata": {},
   "source": [
    "## List"
   ]
  },
  {
   "cell_type": "code",
   "execution_count": 2,
   "id": "c26aa87e-7b9f-42cb-8906-ddb59c624cae",
   "metadata": {},
   "outputs": [],
   "source": [
    "city_0 = \"Atlanta\"\n",
    "city_1 = \"Baltimore\"\n",
    "city_2 = \"Chicago\"\n",
    "city_3 = \"Denver\"\n",
    "city_4 = \"Los Angeles\"\n",
    "city_5 = \"Seattle\""
   ]
  },
  {
   "cell_type": "code",
   "execution_count": 3,
   "id": "5e7b1c7a-9704-4f06-b18e-5d8444d6c0d9",
   "metadata": {},
   "outputs": [
    {
     "data": {
      "text/plain": [
       "(2327709384256, 2327709698928)"
      ]
     },
     "execution_count": 3,
     "metadata": {},
     "output_type": "execute_result"
    }
   ],
   "source": [
    "id(city_0), id(city_1)"
   ]
  },
  {
   "cell_type": "markdown",
   "id": "ff13dafe-319a-4d65-b1d9-01966bddd7a0",
   "metadata": {},
   "source": [
    "- managing collection of values\n",
    "- slower\n",
    "- Solution: Data structure for collection of values: List"
   ]
  },
  {
   "cell_type": "code",
   "execution_count": 109,
   "id": "d4e15cdc-ba63-441d-80e4-a1b035094e4b",
   "metadata": {},
   "outputs": [],
   "source": [
    "cities = [\"Atlanta\", \"Baltimore\", \"Chicago\", \"Denver\", \"Los Angeles\", \"Seattle\"]"
   ]
  },
  {
   "cell_type": "code",
   "execution_count": 6,
   "id": "9cd969d5-83f0-4415-981f-b717056ef851",
   "metadata": {},
   "outputs": [
    {
     "data": {
      "text/plain": [
       "(list, 2327715076096)"
      ]
     },
     "execution_count": 6,
     "metadata": {},
     "output_type": "execute_result"
    }
   ],
   "source": [
    "type(cities), id(cities)"
   ]
  },
  {
   "cell_type": "code",
   "execution_count": 9,
   "id": "a4c94883-4465-47fc-8c15-ba07d1b7f8a4",
   "metadata": {},
   "outputs": [],
   "source": [
    "cities.append(\"Karachi\")"
   ]
  },
  {
   "cell_type": "code",
   "execution_count": 10,
   "id": "83a3606a-7a72-4453-b58e-82a858b86093",
   "metadata": {},
   "outputs": [
    {
     "data": {
      "text/plain": [
       "['Atlanta',\n",
       " 'Baltimore',\n",
       " 'Chicago',\n",
       " 'Denver',\n",
       " 'Los Angeles',\n",
       " 'Seattle',\n",
       " 'Karachi']"
      ]
     },
     "execution_count": 10,
     "metadata": {},
     "output_type": "execute_result"
    }
   ],
   "source": [
    "cities"
   ]
  },
  {
   "cell_type": "code",
   "execution_count": 11,
   "id": "8891efff-9aa9-4039-bc47-37049125e5c2",
   "metadata": {},
   "outputs": [
    {
     "data": {
      "text/plain": [
       "1"
      ]
     },
     "execution_count": 11,
     "metadata": {},
     "output_type": "execute_result"
    }
   ],
   "source": [
    "cities.count(\"Chicago\")"
   ]
  },
  {
   "cell_type": "code",
   "execution_count": 12,
   "id": "6a911e58-f8f4-495e-8232-6f4ee00a9bf1",
   "metadata": {},
   "outputs": [],
   "source": [
    "cities.extend([\"Islamabad\", \"Quetta\"])"
   ]
  },
  {
   "cell_type": "code",
   "execution_count": 13,
   "id": "19119204-79c5-4b90-a53a-1b5a7b9a1a03",
   "metadata": {},
   "outputs": [
    {
     "data": {
      "text/plain": [
       "['Atlanta',\n",
       " 'Baltimore',\n",
       " 'Chicago',\n",
       " 'Denver',\n",
       " 'Los Angeles',\n",
       " 'Seattle',\n",
       " 'Karachi',\n",
       " 'Islamabad',\n",
       " 'Quetta']"
      ]
     },
     "execution_count": 13,
     "metadata": {},
     "output_type": "execute_result"
    }
   ],
   "source": [
    "cities"
   ]
  },
  {
   "cell_type": "code",
   "execution_count": 14,
   "id": "2bcdbd1c-1da5-4d6e-8d76-f6fdb4aeb097",
   "metadata": {},
   "outputs": [],
   "source": [
    "cities.insert(1, \"Peshawar\")"
   ]
  },
  {
   "cell_type": "code",
   "execution_count": 15,
   "id": "da429dde-c4f9-46e0-9240-ea22057b461c",
   "metadata": {},
   "outputs": [
    {
     "data": {
      "text/plain": [
       "['Atlanta',\n",
       " 'Peshawar',\n",
       " 'Baltimore',\n",
       " 'Chicago',\n",
       " 'Denver',\n",
       " 'Los Angeles',\n",
       " 'Seattle',\n",
       " 'Karachi',\n",
       " 'Islamabad',\n",
       " 'Quetta']"
      ]
     },
     "execution_count": 15,
     "metadata": {},
     "output_type": "execute_result"
    }
   ],
   "source": [
    "cities"
   ]
  },
  {
   "cell_type": "code",
   "execution_count": 23,
   "id": "7bf4d143-5d96-452b-bfa1-3ad3744b3c11",
   "metadata": {},
   "outputs": [
    {
     "data": {
      "text/plain": [
       "7"
      ]
     },
     "execution_count": 23,
     "metadata": {},
     "output_type": "execute_result"
    }
   ],
   "source": [
    "cities.index(\"Karachi\")"
   ]
  },
  {
   "cell_type": "code",
   "execution_count": 19,
   "id": "10afa5d7-21fe-4c6f-84fd-89c476795cdb",
   "metadata": {},
   "outputs": [
    {
     "data": {
      "text/plain": [
       "'Islamabad'"
      ]
     },
     "execution_count": 19,
     "metadata": {},
     "output_type": "execute_result"
    }
   ],
   "source": [
    "cities.pop()"
   ]
  },
  {
   "cell_type": "code",
   "execution_count": 26,
   "id": "5a960481-a0aa-48f0-a35c-47dec47940ef",
   "metadata": {},
   "outputs": [
    {
     "data": {
      "text/plain": [
       "['Atlanta',\n",
       " 'Baltimore',\n",
       " 'Chicago',\n",
       " 'Denver',\n",
       " 'Los Angeles',\n",
       " 'Seattle',\n",
       " 'Karachi']"
      ]
     },
     "execution_count": 26,
     "metadata": {},
     "output_type": "execute_result"
    }
   ],
   "source": [
    "cities"
   ]
  },
  {
   "cell_type": "code",
   "execution_count": 27,
   "id": "df7e90f1-1c6c-4699-ade2-158e4c9d4a12",
   "metadata": {},
   "outputs": [],
   "source": [
    "cities.reverse()"
   ]
  },
  {
   "cell_type": "code",
   "execution_count": 28,
   "id": "d9e1de1d-e3ab-4905-8cd2-a20aa40e6689",
   "metadata": {},
   "outputs": [
    {
     "data": {
      "text/plain": [
       "['Karachi',\n",
       " 'Seattle',\n",
       " 'Los Angeles',\n",
       " 'Denver',\n",
       " 'Chicago',\n",
       " 'Baltimore',\n",
       " 'Atlanta']"
      ]
     },
     "execution_count": 28,
     "metadata": {},
     "output_type": "execute_result"
    }
   ],
   "source": [
    "cities"
   ]
  },
  {
   "cell_type": "code",
   "execution_count": 29,
   "id": "8704c550-ef5b-4b59-9c56-89337a9239b5",
   "metadata": {},
   "outputs": [],
   "source": [
    "cities.sort()"
   ]
  },
  {
   "cell_type": "code",
   "execution_count": 30,
   "id": "9156d8bc-e679-456f-af81-b1da9a211b7e",
   "metadata": {},
   "outputs": [
    {
     "data": {
      "text/plain": [
       "['Atlanta',\n",
       " 'Baltimore',\n",
       " 'Chicago',\n",
       " 'Denver',\n",
       " 'Karachi',\n",
       " 'Los Angeles',\n",
       " 'Seattle']"
      ]
     },
     "execution_count": 30,
     "metadata": {},
     "output_type": "execute_result"
    }
   ],
   "source": [
    "cities"
   ]
  },
  {
   "cell_type": "code",
   "execution_count": 31,
   "id": "06592953-c388-479e-ac4b-40a3f279ff34",
   "metadata": {},
   "outputs": [],
   "source": [
    "cities.clear()"
   ]
  },
  {
   "cell_type": "code",
   "execution_count": 32,
   "id": "89a7c2e3-f2ab-400d-b3c0-de7d4c444527",
   "metadata": {},
   "outputs": [
    {
     "data": {
      "text/plain": [
       "[]"
      ]
     },
     "execution_count": 32,
     "metadata": {},
     "output_type": "execute_result"
    }
   ],
   "source": [
    "cities"
   ]
  },
  {
   "cell_type": "markdown",
   "id": "31e5809d-6e52-4156-a091-db52612c1031",
   "metadata": {},
   "source": [
    "### Shallow / Deep Copy"
   ]
  },
  {
   "cell_type": "code",
   "execution_count": 33,
   "id": "8605af52-b8bd-4f64-87a9-bd231229f5f2",
   "metadata": {},
   "outputs": [],
   "source": [
    "cities = [\"Atlanta\", \"Baltimore\", \"Chicago\", \"Denver\", \"Los Angeles\", \"Seattle\"]"
   ]
  },
  {
   "cell_type": "code",
   "execution_count": 34,
   "id": "ce904abf-b53e-4bee-93db-15f66ed84200",
   "metadata": {},
   "outputs": [],
   "source": [
    "cities_new = cities.copy()"
   ]
  },
  {
   "cell_type": "code",
   "execution_count": 35,
   "id": "98917b71-7ba2-4e55-9478-263fa6b89577",
   "metadata": {},
   "outputs": [
    {
     "data": {
      "text/plain": [
       "(list, 2327727262976)"
      ]
     },
     "execution_count": 35,
     "metadata": {},
     "output_type": "execute_result"
    }
   ],
   "source": [
    "type(cities_new), id(cities_new)"
   ]
  },
  {
   "cell_type": "code",
   "execution_count": 36,
   "id": "5763c114-a4e9-4938-b149-516bd0d3cafa",
   "metadata": {},
   "outputs": [
    {
     "data": {
      "text/plain": [
       "['Atlanta', 'Baltimore', 'Chicago', 'Denver', 'Los Angeles', 'Seattle']"
      ]
     },
     "execution_count": 36,
     "metadata": {},
     "output_type": "execute_result"
    }
   ],
   "source": [
    "cities_new"
   ]
  },
  {
   "cell_type": "code",
   "execution_count": 37,
   "id": "8c3bbfdc-5fea-4a1f-b8d8-0185621ebe4c",
   "metadata": {},
   "outputs": [],
   "source": [
    "cities_new.append(\"Karachi\")"
   ]
  },
  {
   "cell_type": "code",
   "execution_count": 38,
   "id": "57399e67-3c76-4314-8370-0ec37ec0d9bf",
   "metadata": {},
   "outputs": [
    {
     "data": {
      "text/plain": [
       "['Atlanta',\n",
       " 'Baltimore',\n",
       " 'Chicago',\n",
       " 'Denver',\n",
       " 'Los Angeles',\n",
       " 'Seattle',\n",
       " 'Karachi']"
      ]
     },
     "execution_count": 38,
     "metadata": {},
     "output_type": "execute_result"
    }
   ],
   "source": [
    "cities_new"
   ]
  },
  {
   "cell_type": "markdown",
   "id": "045aae3e-9ce0-4846-a534-f7a7a70ae8d9",
   "metadata": {},
   "source": [
    "## Task:"
   ]
  },
  {
   "cell_type": "markdown",
   "id": "aa28864c-0bf3-4080-be2e-9b66c6b821ff",
   "metadata": {},
   "source": [
    "- Implemented Deep Copy Concept On list\n",
    "- Adding Value at Different index without `insert()` method."
   ]
  },
  {
   "cell_type": "code",
   "execution_count": 49,
   "id": "6223a86f-67a4-40be-b46b-c0def6e7cf33",
   "metadata": {},
   "outputs": [],
   "source": [
    "cities_new = cities"
   ]
  },
  {
   "cell_type": "code",
   "execution_count": 50,
   "id": "30522862-10bb-4fe5-bab7-a62bd6f815d4",
   "metadata": {},
   "outputs": [
    {
     "data": {
      "text/plain": [
       "(['Atlanta',\n",
       "  'Baltimore',\n",
       "  'Chicago',\n",
       "  'Denver',\n",
       "  'Los Angeles',\n",
       "  'Seattle',\n",
       "  'Karachi'],\n",
       " ['Atlanta',\n",
       "  'Baltimore',\n",
       "  'Chicago',\n",
       "  'Denver',\n",
       "  'Los Angeles',\n",
       "  'Seattle',\n",
       "  'Karachi'])"
      ]
     },
     "execution_count": 50,
     "metadata": {},
     "output_type": "execute_result"
    }
   ],
   "source": [
    "cities_new, cities"
   ]
  },
  {
   "cell_type": "code",
   "execution_count": 51,
   "id": "066ffb44-7eca-4865-80db-856bee6b3e7d",
   "metadata": {},
   "outputs": [
    {
     "data": {
      "text/plain": [
       "(list, 2327728483328)"
      ]
     },
     "execution_count": 51,
     "metadata": {},
     "output_type": "execute_result"
    }
   ],
   "source": [
    "type(cities), id(cities)"
   ]
  },
  {
   "cell_type": "code",
   "execution_count": 54,
   "id": "110a8024-c059-465b-967e-b4d6975c2676",
   "metadata": {},
   "outputs": [
    {
     "data": {
      "text/plain": [
       "(list, 2327728483328)"
      ]
     },
     "execution_count": 54,
     "metadata": {},
     "output_type": "execute_result"
    }
   ],
   "source": [
    "type(cities_new), id(cities_new)"
   ]
  },
  {
   "cell_type": "code",
   "execution_count": 103,
   "id": "0dda7a1b-b129-4683-8f6f-08760d6d1f64",
   "metadata": {},
   "outputs": [],
   "source": [
    "cities[0] = \"Hyderabad\""
   ]
  },
  {
   "cell_type": "markdown",
   "id": "72c64347-c8a8-4036-8d4e-55216b4dc458",
   "metadata": {},
   "source": [
    "## Slicing On List"
   ]
  },
  {
   "cell_type": "code",
   "execution_count": 56,
   "id": "3317197c-010a-429f-8104-bfcdb4208c1a",
   "metadata": {},
   "outputs": [
    {
     "data": {
      "text/plain": [
       "['Hyderabad',\n",
       " 'Baltimore',\n",
       " 'Chicago',\n",
       " 'Denver',\n",
       " 'Los Angeles',\n",
       " 'Seattle',\n",
       " 'Karachi']"
      ]
     },
     "execution_count": 56,
     "metadata": {},
     "output_type": "execute_result"
    }
   ],
   "source": [
    "cities"
   ]
  },
  {
   "cell_type": "code",
   "execution_count": 58,
   "id": "058ca6bc-9f42-463f-9030-b88c79381f67",
   "metadata": {},
   "outputs": [
    {
     "data": {
      "text/plain": [
       "['Hyderabad', 'Baltimore', 'Chicago', 'Denver', 'Los Angeles']"
      ]
     },
     "execution_count": 58,
     "metadata": {},
     "output_type": "execute_result"
    }
   ],
   "source": [
    "cities[:5] # NOTE: first included and last not included"
   ]
  },
  {
   "cell_type": "code",
   "execution_count": 59,
   "id": "3631a054-9e37-4e08-8cfe-37681f1397ee",
   "metadata": {},
   "outputs": [
    {
     "data": {
      "text/plain": [
       "['Chicago', 'Denver', 'Los Angeles']"
      ]
     },
     "execution_count": 59,
     "metadata": {},
     "output_type": "execute_result"
    }
   ],
   "source": [
    "cities[2:5]"
   ]
  },
  {
   "cell_type": "code",
   "execution_count": 61,
   "id": "7049798e-cf4f-4d6b-9e54-b95f206f5f48",
   "metadata": {},
   "outputs": [
    {
     "data": {
      "text/plain": [
       "['Hyderabad',\n",
       " 'Baltimore',\n",
       " 'Chicago',\n",
       " 'Denver',\n",
       " 'Los Angeles',\n",
       " 'Seattle',\n",
       " 'Karachi']"
      ]
     },
     "execution_count": 61,
     "metadata": {},
     "output_type": "execute_result"
    }
   ],
   "source": [
    "cities[0:]"
   ]
  },
  {
   "cell_type": "code",
   "execution_count": 62,
   "id": "c88ce454-a73b-4407-9ddf-bbb8739ad2a0",
   "metadata": {},
   "outputs": [
    {
     "data": {
      "text/plain": [
       "['Karachi',\n",
       " 'Seattle',\n",
       " 'Los Angeles',\n",
       " 'Denver',\n",
       " 'Chicago',\n",
       " 'Baltimore',\n",
       " 'Hyderabad']"
      ]
     },
     "execution_count": 62,
     "metadata": {},
     "output_type": "execute_result"
    }
   ],
   "source": [
    "cities[::-1]"
   ]
  },
  {
   "cell_type": "markdown",
   "id": "dce9f9f5-9b49-46a1-8e69-59212bfcdb0d",
   "metadata": {},
   "source": [
    "### TASK: create a student list of names and apply all methods that we learn today"
   ]
  },
  {
   "cell_type": "code",
   "execution_count": 63,
   "id": "8f74c00c-0953-4cbf-9797-cece0024b2ab",
   "metadata": {},
   "outputs": [],
   "source": [
    "students_name = [\"Wahaj\", \"Muqeet\", \"Abdullah\", \"Moheed\", \"Shoaib\"]"
   ]
  },
  {
   "cell_type": "markdown",
   "id": "28f04417-7213-435f-90a5-507c7d658714",
   "metadata": {},
   "source": [
    "#### Append Method"
   ]
  },
  {
   "cell_type": "code",
   "execution_count": 65,
   "id": "e8cb9501-faa7-442b-8988-f68ddd9203b2",
   "metadata": {},
   "outputs": [],
   "source": [
    "students_name.append(\"Tahir\")"
   ]
  },
  {
   "cell_type": "code",
   "execution_count": 66,
   "id": "ba366863-7dbc-476b-bb4f-454efb43c512",
   "metadata": {},
   "outputs": [
    {
     "data": {
      "text/plain": [
       "['Wahaj', 'Muqeet', 'Abdullah', 'Moheed', 'Shoaib', 'Tahir']"
      ]
     },
     "execution_count": 66,
     "metadata": {},
     "output_type": "execute_result"
    }
   ],
   "source": [
    "students_name"
   ]
  },
  {
   "cell_type": "markdown",
   "id": "ae14214e-aa7b-4c0d-a411-6654411957df",
   "metadata": {},
   "source": [
    "#### Count Method"
   ]
  },
  {
   "cell_type": "code",
   "execution_count": 68,
   "id": "e5bf1fc3-9efd-4539-81d7-eb9ac78f6f9a",
   "metadata": {},
   "outputs": [
    {
     "data": {
      "text/plain": [
       "1"
      ]
     },
     "execution_count": 68,
     "metadata": {},
     "output_type": "execute_result"
    }
   ],
   "source": [
    "students_name.count(\"Muqeet\")"
   ]
  },
  {
   "cell_type": "markdown",
   "id": "2b595896-61d9-48b5-9026-2141f4d5bfbf",
   "metadata": {},
   "source": [
    "#### Extend Method"
   ]
  },
  {
   "cell_type": "code",
   "execution_count": 70,
   "id": "7b634fc1-d1b7-4f68-a695-8cdc2f8a787a",
   "metadata": {},
   "outputs": [],
   "source": [
    "students_name.extend([\"Mutahir\", \"Qasim\"])"
   ]
  },
  {
   "cell_type": "code",
   "execution_count": 71,
   "id": "e0b03dc1-0a4c-4ad4-9d63-65f46d4fd424",
   "metadata": {},
   "outputs": [
    {
     "data": {
      "text/plain": [
       "['Wahaj',\n",
       " 'Muqeet',\n",
       " 'Abdullah',\n",
       " 'Moheed',\n",
       " 'Shoaib',\n",
       " 'Tahir',\n",
       " 'Mutahir',\n",
       " 'Qasim']"
      ]
     },
     "execution_count": 71,
     "metadata": {},
     "output_type": "execute_result"
    }
   ],
   "source": [
    "students_name"
   ]
  },
  {
   "cell_type": "markdown",
   "id": "18562b97-a5b4-48fc-81e7-650dc5dbc4b7",
   "metadata": {},
   "source": [
    "#### Index Method"
   ]
  },
  {
   "cell_type": "code",
   "execution_count": 72,
   "id": "ba74a7fd-b5a6-4681-8f05-b3b5bcdf03a1",
   "metadata": {},
   "outputs": [
    {
     "data": {
      "text/plain": [
       "3"
      ]
     },
     "execution_count": 72,
     "metadata": {},
     "output_type": "execute_result"
    }
   ],
   "source": [
    "students_name.index(\"Moheed\")"
   ]
  },
  {
   "cell_type": "markdown",
   "id": "34a13537-5b5a-4280-b367-89ac1f62ad21",
   "metadata": {},
   "source": [
    "#### Insert Method"
   ]
  },
  {
   "cell_type": "code",
   "execution_count": 74,
   "id": "799274f1-bb1e-49cf-be75-09f844032872",
   "metadata": {},
   "outputs": [],
   "source": [
    "students_name.insert(4, \"Dawood\")"
   ]
  },
  {
   "cell_type": "code",
   "execution_count": 75,
   "id": "6e48388f-edda-468d-b905-3fc5737c38c6",
   "metadata": {},
   "outputs": [
    {
     "data": {
      "text/plain": [
       "['Wahaj',\n",
       " 'Muqeet',\n",
       " 'Abdullah',\n",
       " 'Moheed',\n",
       " 'Dawood',\n",
       " 'Shoaib',\n",
       " 'Tahir',\n",
       " 'Mutahir',\n",
       " 'Qasim']"
      ]
     },
     "execution_count": 75,
     "metadata": {},
     "output_type": "execute_result"
    }
   ],
   "source": [
    "students_name"
   ]
  },
  {
   "cell_type": "markdown",
   "id": "dabe011e-06eb-43b5-b489-e21d6adc4a85",
   "metadata": {},
   "source": [
    "#### Pop Method"
   ]
  },
  {
   "cell_type": "code",
   "execution_count": 106,
   "id": "772a9348-1282-47c6-99bd-21ac262937e3",
   "metadata": {},
   "outputs": [
    {
     "data": {
      "text/plain": [
       "'Muqeet'"
      ]
     },
     "execution_count": 106,
     "metadata": {},
     "output_type": "execute_result"
    }
   ],
   "source": [
    "students_name.pop(1)"
   ]
  },
  {
   "cell_type": "code",
   "execution_count": 77,
   "id": "2abd9042-c65f-4213-a5bf-4a41ab680c49",
   "metadata": {},
   "outputs": [
    {
     "data": {
      "text/plain": [
       "['Wahaj',\n",
       " 'Muqeet',\n",
       " 'Abdullah',\n",
       " 'Moheed',\n",
       " 'Dawood',\n",
       " 'Shoaib',\n",
       " 'Mutahir',\n",
       " 'Qasim']"
      ]
     },
     "execution_count": 77,
     "metadata": {},
     "output_type": "execute_result"
    }
   ],
   "source": [
    "students_name"
   ]
  },
  {
   "cell_type": "markdown",
   "id": "2ba219d2-4f32-4798-8e50-c807fd77bb99",
   "metadata": {},
   "source": [
    "#### Remove Method"
   ]
  },
  {
   "cell_type": "code",
   "execution_count": 80,
   "id": "8e2fba2e-58ff-4794-9485-e6ce2dca0b13",
   "metadata": {},
   "outputs": [],
   "source": [
    "students_name.remove(\"Dawood\")"
   ]
  },
  {
   "cell_type": "code",
   "execution_count": 90,
   "id": "1ce5a487-8d84-435e-b4b9-4f2b07665638",
   "metadata": {},
   "outputs": [
    {
     "data": {
      "text/plain": [
       "['Wahaj', 'Muqeet', 'Abdullah', 'Moheed', 'Shoaib']"
      ]
     },
     "execution_count": 90,
     "metadata": {},
     "output_type": "execute_result"
    }
   ],
   "source": [
    "students_name"
   ]
  },
  {
   "cell_type": "code",
   "execution_count": 92,
   "id": "fe236aa7-38a0-4eff-b5ef-c20d8815fcb8",
   "metadata": {},
   "outputs": [
    {
     "data": {
      "text/plain": [
       "(list, 2327709773696)"
      ]
     },
     "execution_count": 92,
     "metadata": {},
     "output_type": "execute_result"
    }
   ],
   "source": [
    "type(students_name), id(students_name)"
   ]
  },
  {
   "cell_type": "markdown",
   "id": "62b2912b-8dc8-479a-8c08-126e229ca2eb",
   "metadata": {},
   "source": [
    "#### Reverse Method"
   ]
  },
  {
   "cell_type": "code",
   "execution_count": 82,
   "id": "ba1e66c2-894b-4b15-a8e0-39e047c050d6",
   "metadata": {},
   "outputs": [],
   "source": [
    "students_name.reverse()"
   ]
  },
  {
   "cell_type": "code",
   "execution_count": 83,
   "id": "b1923af3-23d0-4831-ae53-b4e7f9f6137c",
   "metadata": {},
   "outputs": [
    {
     "data": {
      "text/plain": [
       "['Qasim', 'Mutahir', 'Shoaib', 'Moheed', 'Abdullah', 'Muqeet', 'Wahaj']"
      ]
     },
     "execution_count": 83,
     "metadata": {},
     "output_type": "execute_result"
    }
   ],
   "source": [
    "students_name"
   ]
  },
  {
   "cell_type": "markdown",
   "id": "f35f458e-087c-48c2-89e8-0da2cdff9766",
   "metadata": {},
   "source": [
    "#### Sort Method"
   ]
  },
  {
   "cell_type": "code",
   "execution_count": 84,
   "id": "b0eb2f34-2b7e-4d05-ab24-0891d28420ab",
   "metadata": {},
   "outputs": [],
   "source": [
    "students_name.sort()"
   ]
  },
  {
   "cell_type": "code",
   "execution_count": 85,
   "id": "87d511c1-d244-4e53-bbae-688837e9854a",
   "metadata": {},
   "outputs": [
    {
     "data": {
      "text/plain": [
       "['Abdullah', 'Moheed', 'Muqeet', 'Mutahir', 'Qasim', 'Shoaib', 'Wahaj']"
      ]
     },
     "execution_count": 85,
     "metadata": {},
     "output_type": "execute_result"
    }
   ],
   "source": [
    "students_name"
   ]
  },
  {
   "cell_type": "markdown",
   "id": "962d3b1b-64cc-422e-89f0-4a6775e62c88",
   "metadata": {},
   "source": [
    "#### Clear Method"
   ]
  },
  {
   "cell_type": "code",
   "execution_count": 86,
   "id": "38255032-d376-4fea-928f-c05e6f7a8b59",
   "metadata": {},
   "outputs": [],
   "source": [
    "students_name.clear()"
   ]
  },
  {
   "cell_type": "code",
   "execution_count": 87,
   "id": "06c9d90d-d2a7-4f53-9cd1-628b4d94a65e",
   "metadata": {},
   "outputs": [
    {
     "data": {
      "text/plain": [
       "[]"
      ]
     },
     "execution_count": 87,
     "metadata": {},
     "output_type": "execute_result"
    }
   ],
   "source": [
    "students_name"
   ]
  },
  {
   "cell_type": "code",
   "execution_count": 88,
   "id": "240f4809-813b-48cb-a3a3-7cc77cd8e7fd",
   "metadata": {},
   "outputs": [],
   "source": [
    "students_name = [\"Wahaj\", \"Muqeet\", \"Abdullah\", \"Moheed\", \"Shoaib\"]"
   ]
  },
  {
   "cell_type": "markdown",
   "id": "9a398091-851e-461f-bc88-a0094deaced6",
   "metadata": {},
   "source": [
    "#### Copy Method"
   ]
  },
  {
   "cell_type": "code",
   "execution_count": 95,
   "id": "b69adb16-81a3-4edb-977f-84e2ee37a07b",
   "metadata": {},
   "outputs": [],
   "source": [
    "names = students_name.copy()"
   ]
  },
  {
   "cell_type": "code",
   "execution_count": 96,
   "id": "e017b546-c068-4311-b65e-958738f389b9",
   "metadata": {},
   "outputs": [
    {
     "data": {
      "text/plain": [
       "(list, 2327727800960)"
      ]
     },
     "execution_count": 96,
     "metadata": {},
     "output_type": "execute_result"
    }
   ],
   "source": [
    "type(names), id(names)"
   ]
  },
  {
   "cell_type": "code",
   "execution_count": 98,
   "id": "a5501eb0-8806-4ef1-913e-95e9f0c9a3c4",
   "metadata": {},
   "outputs": [
    {
     "data": {
      "text/plain": [
       "['Wahaj', 'Muqeet', 'Abdullah', 'Moheed', 'Shoaib']"
      ]
     },
     "execution_count": 98,
     "metadata": {},
     "output_type": "execute_result"
    }
   ],
   "source": [
    "names"
   ]
  },
  {
   "cell_type": "code",
   "execution_count": 99,
   "id": "9e685e68-673f-439f-8d51-1b3878ac0c7a",
   "metadata": {},
   "outputs": [],
   "source": [
    "names = students_name"
   ]
  },
  {
   "cell_type": "code",
   "execution_count": 100,
   "id": "83fad201-ab7e-4242-b0f0-20ddbcd63069",
   "metadata": {},
   "outputs": [
    {
     "data": {
      "text/plain": [
       "(['Wahaj', 'Muqeet', 'Abdullah', 'Moheed', 'Shoaib'],\n",
       " ['Wahaj', 'Muqeet', 'Abdullah', 'Moheed', 'Shoaib'])"
      ]
     },
     "execution_count": 100,
     "metadata": {},
     "output_type": "execute_result"
    }
   ],
   "source": [
    "names, students_name"
   ]
  },
  {
   "cell_type": "code",
   "execution_count": 101,
   "id": "e153cbf2-1eff-454f-9b7f-ebadaa63bc9d",
   "metadata": {},
   "outputs": [
    {
     "data": {
      "text/plain": [
       "(list, 2327709773696)"
      ]
     },
     "execution_count": 101,
     "metadata": {},
     "output_type": "execute_result"
    }
   ],
   "source": [
    "type(names), id(names)"
   ]
  },
  {
   "cell_type": "code",
   "execution_count": 102,
   "id": "024abacb-5e3e-4263-b5a0-95e39388bc31",
   "metadata": {},
   "outputs": [
    {
     "data": {
      "text/plain": [
       "(list, 2327709773696)"
      ]
     },
     "execution_count": 102,
     "metadata": {},
     "output_type": "execute_result"
    }
   ],
   "source": [
    "type(students_name), id(students_name)"
   ]
  },
  {
   "cell_type": "code",
   "execution_count": 111,
   "id": "9d8a96ec-336c-4714-9eb8-32d049f294fa",
   "metadata": {},
   "outputs": [],
   "source": [
    "bio_data = [\"Moheed\", 18, 25.7, True]"
   ]
  },
  {
   "cell_type": "code",
   "execution_count": 112,
   "id": "a69754ce-64a0-419a-8e9b-fe7897b2ffa4",
   "metadata": {},
   "outputs": [
    {
     "data": {
      "text/plain": [
       "['Moheed', 18, 25.7, True]"
      ]
     },
     "execution_count": 112,
     "metadata": {},
     "output_type": "execute_result"
    }
   ],
   "source": [
    "bio_data"
   ]
  },
  {
   "cell_type": "code",
   "execution_count": 114,
   "id": "3dd5fee2-1f69-4750-bd24-c329d76f3350",
   "metadata": {},
   "outputs": [
    {
     "data": {
      "text/plain": [
       "4"
      ]
     },
     "execution_count": 114,
     "metadata": {},
     "output_type": "execute_result"
    }
   ],
   "source": [
    "len(bio_data)"
   ]
  },
  {
   "cell_type": "markdown",
   "id": "20bc9ce3-9b28-4f19-9a04-49db2264a81c",
   "metadata": {},
   "source": [
    "## Tuples - Immuitable"
   ]
  },
  {
   "cell_type": "code",
   "execution_count": 136,
   "id": "6a797b78-b884-4f3d-844c-17ef1220cb1d",
   "metadata": {},
   "outputs": [],
   "source": [
    "bio_data.append(\"Qasim\")"
   ]
  },
  {
   "cell_type": "code",
   "execution_count": 137,
   "id": "b3caab97-7d2c-4915-ba6f-9ae197d1a3ff",
   "metadata": {},
   "outputs": [
    {
     "data": {
      "text/plain": [
       "('Moheed', 18, 25.7, True, 'Qasim')"
      ]
     },
     "execution_count": 137,
     "metadata": {},
     "output_type": "execute_result"
    }
   ],
   "source": [
    "tuple(bio_data)"
   ]
  },
  {
   "cell_type": "code",
   "execution_count": 138,
   "id": "9ea19ad6-e528-4f0b-9b4d-70b09256dd00",
   "metadata": {},
   "outputs": [],
   "source": [
    "del bio_data[4:5]"
   ]
  },
  {
   "cell_type": "code",
   "execution_count": 139,
   "id": "480bb362-71b6-4679-ad72-4779e519e98e",
   "metadata": {},
   "outputs": [
    {
     "data": {
      "text/plain": [
       "{18, 25.7, 'Moheed', True}"
      ]
     },
     "execution_count": 139,
     "metadata": {},
     "output_type": "execute_result"
    }
   ],
   "source": [
    "set(bio_data)"
   ]
  },
  {
   "cell_type": "code",
   "execution_count": 122,
   "id": "66c85838-359e-4134-8208-9708c10c0af9",
   "metadata": {},
   "outputs": [],
   "source": [
    "bio_data_t = tuple(bio_data)"
   ]
  },
  {
   "cell_type": "code",
   "execution_count": 123,
   "id": "d4b2c1c0-f3a3-422f-bbf4-d98a7dcf5243",
   "metadata": {},
   "outputs": [
    {
     "ename": "TypeError",
     "evalue": "'tuple' object does not support item assignment",
     "output_type": "error",
     "traceback": [
      "\u001b[1;31m---------------------------------------------------------------------------\u001b[0m",
      "\u001b[1;31mTypeError\u001b[0m                                 Traceback (most recent call last)",
      "Cell \u001b[1;32mIn[123], line 1\u001b[0m\n\u001b[1;32m----> 1\u001b[0m bio_data_t[\u001b[38;5;241m4\u001b[39m] \u001b[38;5;241m=\u001b[39m \u001b[38;5;124m\"\u001b[39m\u001b[38;5;124m0312-345677888\u001b[39m\u001b[38;5;124m\"\u001b[39m\n",
      "\u001b[1;31mTypeError\u001b[0m: 'tuple' object does not support item assignment"
     ]
    }
   ],
   "source": [
    "bio_data_t[4] = \"0312-345677888\""
   ]
  },
  {
   "cell_type": "code",
   "execution_count": 124,
   "id": "942f2d0b-02b7-4bcc-8f57-96e364cdb077",
   "metadata": {},
   "outputs": [
    {
     "data": {
      "text/plain": [
       "2"
      ]
     },
     "execution_count": 124,
     "metadata": {},
     "output_type": "execute_result"
    }
   ],
   "source": [
    "bio_data_t.count(\"Qasim\")"
   ]
  },
  {
   "cell_type": "code",
   "execution_count": 125,
   "id": "1a6a3e24-50ce-41fc-a038-5b72fd3fe854",
   "metadata": {},
   "outputs": [
    {
     "data": {
      "text/plain": [
       "4"
      ]
     },
     "execution_count": 125,
     "metadata": {},
     "output_type": "execute_result"
    }
   ],
   "source": [
    "bio_data_t.index(\"Qasim\")"
   ]
  },
  {
   "cell_type": "code",
   "execution_count": 132,
   "id": "011b3b76-d852-498f-a678-7691676093bd",
   "metadata": {},
   "outputs": [
    {
     "data": {
      "text/plain": [
       "(18, 25.7, True)"
      ]
     },
     "execution_count": 132,
     "metadata": {},
     "output_type": "execute_result"
    }
   ],
   "source": [
    "bio_data_t[1:-2]"
   ]
  },
  {
   "cell_type": "code",
   "execution_count": 140,
   "id": "ba34fe54-53a6-4701-ba18-7802ce84e388",
   "metadata": {},
   "outputs": [
    {
     "data": {
      "text/plain": [
       "('Moheed', 18, 25.7, True, 'Qasim', 'Qasim')"
      ]
     },
     "execution_count": 140,
     "metadata": {},
     "output_type": "execute_result"
    }
   ],
   "source": [
    "bio_data_t"
   ]
  },
  {
   "cell_type": "code",
   "execution_count": 143,
   "id": "98919914-41bb-4751-bfde-e954f8afcaea",
   "metadata": {},
   "outputs": [],
   "source": [
    "del bio_data[5:]"
   ]
  },
  {
   "cell_type": "code",
   "execution_count": 144,
   "id": "42153a67-a24d-4936-92fc-e96b39d30979",
   "metadata": {},
   "outputs": [
    {
     "data": {
      "text/plain": [
       "('Moheed', 18, 25.7, True, 'Qasim', 'Qasim')"
      ]
     },
     "execution_count": 144,
     "metadata": {},
     "output_type": "execute_result"
    }
   ],
   "source": [
    "bio_data_t"
   ]
  },
  {
   "cell_type": "markdown",
   "id": "49dd2bd5-d8bf-4a8b-acda-dffc1c53b4c9",
   "metadata": {},
   "source": [
    "## Set"
   ]
  },
  {
   "cell_type": "code",
   "execution_count": 146,
   "id": "aff2acfd-b0dc-4d83-8722-5228fffd6cd6",
   "metadata": {},
   "outputs": [],
   "source": [
    "name_list = [\"Moheed\", \"Moheed\", \"moheedsiddiqui\"]"
   ]
  },
  {
   "cell_type": "code",
   "execution_count": 147,
   "id": "5e609176-ff1c-4f10-907a-57446eef9df0",
   "metadata": {},
   "outputs": [],
   "source": [
    "name_set = set(name_list)"
   ]
  },
  {
   "cell_type": "code",
   "execution_count": 148,
   "id": "4b121281-4467-4f97-abf6-8b510b00cfbc",
   "metadata": {},
   "outputs": [
    {
     "data": {
      "text/plain": [
       "{'Moheed', 'moheedsiddiqui'}"
      ]
     },
     "execution_count": 148,
     "metadata": {},
     "output_type": "execute_result"
    }
   ],
   "source": [
    "name_set"
   ]
  },
  {
   "cell_type": "code",
   "execution_count": 149,
   "id": "02e946f8-7fdf-4370-aad2-082272637670",
   "metadata": {},
   "outputs": [],
   "source": [
    "set_a = {\"a\", \"b\"}\n",
    "set_b = {\"c\", \"d\"}\n",
    "universal_set = {\"a\", \"b\", \"c\", \"d\"}"
   ]
  },
  {
   "cell_type": "code",
   "execution_count": 150,
   "id": "6d4d83ff-4d91-4cd9-9eb2-9b7a0e318baf",
   "metadata": {},
   "outputs": [],
   "source": [
    "universal_set.add(\"e\")"
   ]
  },
  {
   "cell_type": "code",
   "execution_count": 151,
   "id": "80587f5d-a216-4a53-8aaf-2f14b7cebdee",
   "metadata": {},
   "outputs": [
    {
     "data": {
      "text/plain": [
       "{'a', 'b', 'c', 'd', 'e'}"
      ]
     },
     "execution_count": 151,
     "metadata": {},
     "output_type": "execute_result"
    }
   ],
   "source": [
    "universal_set"
   ]
  },
  {
   "cell_type": "code",
   "execution_count": 152,
   "id": "6e03da74-d2a5-440b-ac88-ed7a414a2cc1",
   "metadata": {},
   "outputs": [
    {
     "data": {
      "text/plain": [
       "{'c', 'd', 'e'}"
      ]
     },
     "execution_count": 152,
     "metadata": {},
     "output_type": "execute_result"
    }
   ],
   "source": [
    "universal_set.difference(set_a)"
   ]
  },
  {
   "cell_type": "code",
   "execution_count": 153,
   "id": "76890bbf-39ad-4b60-8c2b-a0833057a081",
   "metadata": {},
   "outputs": [],
   "source": [
    "universal_set.difference_update(set_b)"
   ]
  },
  {
   "cell_type": "code",
   "execution_count": 154,
   "id": "7b35e6ff-9753-4144-b97b-8068c146f6af",
   "metadata": {},
   "outputs": [
    {
     "data": {
      "text/plain": [
       "{'a', 'b', 'e'}"
      ]
     },
     "execution_count": 154,
     "metadata": {},
     "output_type": "execute_result"
    }
   ],
   "source": [
    "universal_set"
   ]
  },
  {
   "cell_type": "code",
   "execution_count": 155,
   "id": "6c2086ae-30ba-41b2-b972-03b96b7c9c71",
   "metadata": {},
   "outputs": [],
   "source": [
    "universal_set.discard(\"e\")"
   ]
  },
  {
   "cell_type": "code",
   "execution_count": 156,
   "id": "858c0855-30d6-45fe-8cca-24ab71ef4160",
   "metadata": {},
   "outputs": [
    {
     "data": {
      "text/plain": [
       "{'a', 'b'}"
      ]
     },
     "execution_count": 156,
     "metadata": {},
     "output_type": "execute_result"
    }
   ],
   "source": [
    "universal_set"
   ]
  },
  {
   "cell_type": "code",
   "execution_count": 158,
   "id": "05bda81a-08a7-43b2-913c-b7c94045d353",
   "metadata": {},
   "outputs": [],
   "source": [
    "universal_set.update(\"c\", \"d\")"
   ]
  },
  {
   "cell_type": "code",
   "execution_count": 159,
   "id": "92ba9846-96b3-4e1b-8602-255ba22bac68",
   "metadata": {},
   "outputs": [
    {
     "data": {
      "text/plain": [
       "{'a', 'b', 'c', 'd'}"
      ]
     },
     "execution_count": 159,
     "metadata": {},
     "output_type": "execute_result"
    }
   ],
   "source": [
    "universal_set"
   ]
  },
  {
   "cell_type": "code",
   "execution_count": 160,
   "id": "c1626ac9-6708-46d0-b700-61e75d937c0e",
   "metadata": {},
   "outputs": [
    {
     "data": {
      "text/plain": [
       "{'c', 'd'}"
      ]
     },
     "execution_count": 160,
     "metadata": {},
     "output_type": "execute_result"
    }
   ],
   "source": [
    "universal_set.intersection(set_b)"
   ]
  },
  {
   "cell_type": "code",
   "execution_count": 161,
   "id": "bd4fe068-3225-426d-a566-29ffc42a5a5c",
   "metadata": {},
   "outputs": [],
   "source": [
    "universal_set.intersection_update(set_a)"
   ]
  },
  {
   "cell_type": "code",
   "execution_count": 162,
   "id": "e92e9043-688d-4ab3-a5e3-abba2a7cdd9a",
   "metadata": {},
   "outputs": [
    {
     "data": {
      "text/plain": [
       "{'a', 'b'}"
      ]
     },
     "execution_count": 162,
     "metadata": {},
     "output_type": "execute_result"
    }
   ],
   "source": [
    "universal_set"
   ]
  },
  {
   "cell_type": "code",
   "execution_count": 163,
   "id": "55109931-8db6-4244-a452-38dbb7d44bfd",
   "metadata": {},
   "outputs": [],
   "source": [
    "universal_set.update(\"c\", \"d\")"
   ]
  },
  {
   "cell_type": "code",
   "execution_count": 165,
   "id": "d5860586-98b5-44a7-84b3-eb16e5fc5d06",
   "metadata": {},
   "outputs": [
    {
     "data": {
      "text/plain": [
       "{'a', 'b', 'c', 'd'}"
      ]
     },
     "execution_count": 165,
     "metadata": {},
     "output_type": "execute_result"
    }
   ],
   "source": [
    "universal_set"
   ]
  },
  {
   "cell_type": "code",
   "execution_count": 168,
   "id": "3d64a657-6836-40fc-b097-44b287d0bd40",
   "metadata": {},
   "outputs": [
    {
     "data": {
      "text/plain": [
       "False"
      ]
     },
     "execution_count": 168,
     "metadata": {},
     "output_type": "execute_result"
    }
   ],
   "source": [
    "universal_set.isdisjoint(set_b)"
   ]
  },
  {
   "cell_type": "code",
   "execution_count": 170,
   "id": "808e3ad9-b824-4af3-ac34-8d03b605b4b1",
   "metadata": {},
   "outputs": [
    {
     "data": {
      "text/plain": [
       "False"
      ]
     },
     "execution_count": 170,
     "metadata": {},
     "output_type": "execute_result"
    }
   ],
   "source": [
    "universal_set.issubset(set_b)"
   ]
  },
  {
   "cell_type": "code",
   "execution_count": 171,
   "id": "6cdb449c-010b-4d96-8bda-211f2c247c1e",
   "metadata": {},
   "outputs": [
    {
     "data": {
      "text/plain": [
       "True"
      ]
     },
     "execution_count": 171,
     "metadata": {},
     "output_type": "execute_result"
    }
   ],
   "source": [
    "universal_set.issuperset(set_a)"
   ]
  },
  {
   "cell_type": "code",
   "execution_count": 185,
   "id": "b09f36ec-126a-4315-8905-51053e88ec39",
   "metadata": {},
   "outputs": [
    {
     "data": {
      "text/plain": [
       "{'a', 'b', 'c', 'e'}"
      ]
     },
     "execution_count": 185,
     "metadata": {},
     "output_type": "execute_result"
    }
   ],
   "source": [
    "universal_set"
   ]
  },
  {
   "cell_type": "code",
   "execution_count": 186,
   "id": "6053cc26-cfdc-4533-ac71-345f2ab20caa",
   "metadata": {},
   "outputs": [
    {
     "data": {
      "text/plain": [
       "'a'"
      ]
     },
     "execution_count": 186,
     "metadata": {},
     "output_type": "execute_result"
    }
   ],
   "source": [
    "universal_set.pop()"
   ]
  },
  {
   "cell_type": "code",
   "execution_count": 187,
   "id": "0f88cb8a-747e-48cb-b9f2-8b708a4888be",
   "metadata": {},
   "outputs": [
    {
     "data": {
      "text/plain": [
       "{'b', 'c', 'e'}"
      ]
     },
     "execution_count": 187,
     "metadata": {},
     "output_type": "execute_result"
    }
   ],
   "source": [
    "universal_set"
   ]
  },
  {
   "cell_type": "code",
   "execution_count": 189,
   "id": "08f9d88c-d8af-44b0-8b3e-37a34f4568fa",
   "metadata": {},
   "outputs": [],
   "source": [
    "universal_set.remove(\"e\")"
   ]
  },
  {
   "cell_type": "code",
   "execution_count": 190,
   "id": "636e1aaa-1b23-47be-8a71-2d65b0a945cd",
   "metadata": {},
   "outputs": [
    {
     "data": {
      "text/plain": [
       "{'b', 'c'}"
      ]
     },
     "execution_count": 190,
     "metadata": {},
     "output_type": "execute_result"
    }
   ],
   "source": [
    "universal_set"
   ]
  },
  {
   "cell_type": "code",
   "execution_count": 191,
   "id": "74f4bbf7-31c8-41e0-acf9-3d32362343bf",
   "metadata": {},
   "outputs": [
    {
     "data": {
      "text/plain": [
       "{'a', 'c'}"
      ]
     },
     "execution_count": 191,
     "metadata": {},
     "output_type": "execute_result"
    }
   ],
   "source": [
    "universal_set.symmetric_difference(set_a)"
   ]
  },
  {
   "cell_type": "code",
   "execution_count": 192,
   "id": "9968d5a0-0ff2-4e33-997d-712322d2ebf0",
   "metadata": {},
   "outputs": [
    {
     "data": {
      "text/plain": [
       "{'b', 'c'}"
      ]
     },
     "execution_count": 192,
     "metadata": {},
     "output_type": "execute_result"
    }
   ],
   "source": [
    "universal_set"
   ]
  },
  {
   "cell_type": "code",
   "execution_count": 193,
   "id": "ef4ac0f3-992c-417b-8ab4-49633b3afe29",
   "metadata": {},
   "outputs": [],
   "source": [
    "universal_set.symmetric_difference_update(\"b\")"
   ]
  },
  {
   "cell_type": "code",
   "execution_count": 194,
   "id": "15bf4aab-9d08-4ebc-bfa4-1c3dea74ccf2",
   "metadata": {},
   "outputs": [
    {
     "data": {
      "text/plain": [
       "{'c'}"
      ]
     },
     "execution_count": 194,
     "metadata": {},
     "output_type": "execute_result"
    }
   ],
   "source": [
    "universal_set"
   ]
  },
  {
   "cell_type": "code",
   "execution_count": 195,
   "id": "4579201b-a846-47d7-8497-6c6e329b0eb7",
   "metadata": {},
   "outputs": [
    {
     "data": {
      "text/plain": [
       "{'c', 'd'}"
      ]
     },
     "execution_count": 195,
     "metadata": {},
     "output_type": "execute_result"
    }
   ],
   "source": [
    "universal_set.union(set_b)"
   ]
  },
  {
   "cell_type": "code",
   "execution_count": 196,
   "id": "eaea2694-cad0-469d-be63-8d3ad5e7233f",
   "metadata": {},
   "outputs": [],
   "source": [
    "universal_set.update(\"e\")"
   ]
  },
  {
   "cell_type": "code",
   "execution_count": 197,
   "id": "0986c7ce-1030-4891-88bb-59727b511111",
   "metadata": {},
   "outputs": [
    {
     "data": {
      "text/plain": [
       "{'c', 'e'}"
      ]
     },
     "execution_count": 197,
     "metadata": {},
     "output_type": "execute_result"
    }
   ],
   "source": [
    "universal_set"
   ]
  },
  {
   "cell_type": "markdown",
   "id": "a6732f3d-85e8-4d95-9379-3d61bda30cd0",
   "metadata": {},
   "source": [
    "## Tuple Task"
   ]
  },
  {
   "cell_type": "code",
   "execution_count": 198,
   "id": "0785d92d-5d00-4e54-90ba-48a6bd673b66",
   "metadata": {},
   "outputs": [],
   "source": [
    "bio_data = [\"Moheed\", 18, 25.7, True]"
   ]
  },
  {
   "cell_type": "code",
   "execution_count": 202,
   "id": "1c2ae3cc-a4ae-4999-b1df-ec76d390704b",
   "metadata": {},
   "outputs": [],
   "source": [
    "bio_data.append(\"Siddiqui\")"
   ]
  },
  {
   "cell_type": "code",
   "execution_count": 204,
   "id": "8b599c4a-68e4-4a3a-a1b3-0416375c447d",
   "metadata": {},
   "outputs": [
    {
     "data": {
      "text/plain": [
       "('Moheed', 18, 25.7, True, 'Siddiqui', 'Siddiqui')"
      ]
     },
     "execution_count": 204,
     "metadata": {},
     "output_type": "execute_result"
    }
   ],
   "source": [
    "tuple(bio_data)"
   ]
  },
  {
   "cell_type": "code",
   "execution_count": 207,
   "id": "9007b77d-7e47-4508-8e34-62abaa41d26d",
   "metadata": {},
   "outputs": [
    {
     "data": {
      "text/plain": [
       "0"
      ]
     },
     "execution_count": 207,
     "metadata": {},
     "output_type": "execute_result"
    }
   ],
   "source": [
    "bio_data.count(3)"
   ]
  },
  {
   "cell_type": "code",
   "execution_count": 208,
   "id": "323083d5-4db5-480a-b978-805580a0bb75",
   "metadata": {},
   "outputs": [],
   "source": [
    "bio_data.extend(\"Student\")"
   ]
  },
  {
   "cell_type": "code",
   "execution_count": 209,
   "id": "937bbde8-1640-42b6-8e4b-a6f6971e81b5",
   "metadata": {
    "scrolled": true
   },
   "outputs": [
    {
     "data": {
      "text/plain": [
       "['Moheed',\n",
       " 18,\n",
       " 25.7,\n",
       " True,\n",
       " 'Siddiqui',\n",
       " 'Siddiqui',\n",
       " 'S',\n",
       " 't',\n",
       " 'u',\n",
       " 'd',\n",
       " 'e',\n",
       " 'n',\n",
       " 't']"
      ]
     },
     "execution_count": 209,
     "metadata": {},
     "output_type": "execute_result"
    }
   ],
   "source": [
    "bio_data"
   ]
  },
  {
   "cell_type": "code",
   "execution_count": 210,
   "id": "2dc285b8-3692-4739-b056-f3bbcaff0f09",
   "metadata": {},
   "outputs": [
    {
     "data": {
      "text/plain": [
       "6"
      ]
     },
     "execution_count": 210,
     "metadata": {},
     "output_type": "execute_result"
    }
   ],
   "source": [
    "bio_data.index(\"S\")"
   ]
  },
  {
   "cell_type": "code",
   "execution_count": 212,
   "id": "0da0039c-10dc-4045-a986-147660f410b4",
   "metadata": {},
   "outputs": [],
   "source": [
    "bio_data.insert(2, \"Hello\")"
   ]
  },
  {
   "cell_type": "code",
   "execution_count": 213,
   "id": "765f8d9c-d775-41b2-8b0c-743f452858b1",
   "metadata": {},
   "outputs": [
    {
     "data": {
      "text/plain": [
       "['Moheed',\n",
       " 18,\n",
       " 'Hello',\n",
       " 25.7,\n",
       " True,\n",
       " 'Siddiqui',\n",
       " 'Siddiqui',\n",
       " 'S',\n",
       " 't',\n",
       " 'u',\n",
       " 'd',\n",
       " 'e',\n",
       " 'n',\n",
       " 't']"
      ]
     },
     "execution_count": 213,
     "metadata": {},
     "output_type": "execute_result"
    }
   ],
   "source": [
    "bio_data"
   ]
  },
  {
   "cell_type": "code",
   "execution_count": 214,
   "id": "668b38a4-c495-4927-959b-3ad20fece1ed",
   "metadata": {},
   "outputs": [
    {
     "data": {
      "text/plain": [
       "'t'"
      ]
     },
     "execution_count": 214,
     "metadata": {},
     "output_type": "execute_result"
    }
   ],
   "source": [
    "bio_data.pop()"
   ]
  },
  {
   "cell_type": "code",
   "execution_count": 215,
   "id": "d7182886-5481-422f-8676-eb8e158f322f",
   "metadata": {},
   "outputs": [
    {
     "data": {
      "text/plain": [
       "['Moheed',\n",
       " 18,\n",
       " 'Hello',\n",
       " 25.7,\n",
       " True,\n",
       " 'Siddiqui',\n",
       " 'Siddiqui',\n",
       " 'S',\n",
       " 't',\n",
       " 'u',\n",
       " 'd',\n",
       " 'e',\n",
       " 'n']"
      ]
     },
     "execution_count": 215,
     "metadata": {},
     "output_type": "execute_result"
    }
   ],
   "source": [
    "bio_data"
   ]
  },
  {
   "cell_type": "code",
   "execution_count": 222,
   "id": "c7ce1586-e310-4c1d-8125-59b139ecf375",
   "metadata": {},
   "outputs": [],
   "source": [
    "bio_data.remove(\"d\")"
   ]
  },
  {
   "cell_type": "code",
   "execution_count": 223,
   "id": "3e939960-a843-48c3-9afb-3577eed2ef61",
   "metadata": {},
   "outputs": [
    {
     "data": {
      "text/plain": [
       "['Moheed', 18, 'Hello', 25.7, True, 'Siddiqui', 'Siddiqui', 'e', 'n']"
      ]
     },
     "execution_count": 223,
     "metadata": {},
     "output_type": "execute_result"
    }
   ],
   "source": [
    "bio_data"
   ]
  },
  {
   "cell_type": "code",
   "execution_count": 224,
   "id": "8ab49894-1f13-48f2-b7a3-bef13fa58c4d",
   "metadata": {},
   "outputs": [],
   "source": [
    "del bio_data[4:]"
   ]
  },
  {
   "cell_type": "code",
   "execution_count": 225,
   "id": "f8d8b178-f6ba-4a61-87e4-e89e57d7b352",
   "metadata": {},
   "outputs": [
    {
     "data": {
      "text/plain": [
       "['Moheed', 18, 'Hello', 25.7]"
      ]
     },
     "execution_count": 225,
     "metadata": {},
     "output_type": "execute_result"
    }
   ],
   "source": [
    "bio_data"
   ]
  },
  {
   "cell_type": "code",
   "execution_count": 226,
   "id": "0eb4431f-b84e-4d51-a57d-f7468df004ad",
   "metadata": {},
   "outputs": [
    {
     "data": {
      "text/plain": [
       "{18, 25.7, 'Hello', 'Moheed'}"
      ]
     },
     "execution_count": 226,
     "metadata": {},
     "output_type": "execute_result"
    }
   ],
   "source": [
    "set(bio_data)"
   ]
  },
  {
   "cell_type": "code",
   "execution_count": null,
   "id": "5d8da22c-0658-41d4-b028-df53bf157902",
   "metadata": {},
   "outputs": [],
   "source": [
    " "
   ]
  }
 ],
 "metadata": {
  "kernelspec": {
   "display_name": "Python 3 (ipykernel)",
   "language": "python",
   "name": "python3"
  },
  "language_info": {
   "codemirror_mode": {
    "name": "ipython",
    "version": 3
   },
   "file_extension": ".py",
   "mimetype": "text/x-python",
   "name": "python",
   "nbconvert_exporter": "python",
   "pygments_lexer": "ipython3",
   "version": "3.13.5"
  }
 },
 "nbformat": 4,
 "nbformat_minor": 5
}
