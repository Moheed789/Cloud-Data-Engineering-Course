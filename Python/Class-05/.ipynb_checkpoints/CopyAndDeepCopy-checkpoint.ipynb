{
 "cells": [
  {
   "cell_type": "markdown",
   "id": "a39c1a4b-0a37-4df1-b6bd-a77f37d43f2f",
   "metadata": {},
   "source": [
    "## Value by Rrefernce"
   ]
  },
  {
   "cell_type": "code",
   "execution_count": 1,
   "id": "8d7d2e91-e8d2-4f28-8212-62f543671f53",
   "metadata": {},
   "outputs": [
    {
     "data": {
      "text/plain": [
       "(13, 12)"
      ]
     },
     "execution_count": 1,
     "metadata": {},
     "output_type": "execute_result"
    }
   ],
   "source": [
    "a = [1,2,3,4]\n",
    "a[0] = 29\n",
    "b = 12\n",
    "c = b\n",
    "c+=1\n",
    "c,b"
   ]
  },
  {
   "cell_type": "markdown",
   "id": "768fbc5b-1fe1-4ce3-a560-133c8aa619fd",
   "metadata": {},
   "source": [
    "## Shallow and Deep Copy"
   ]
  },
  {
   "cell_type": "code",
   "execution_count": 2,
   "id": "3230fa19-f461-469f-b187-b56b230a8454",
   "metadata": {},
   "outputs": [
    {
     "data": {
      "text/plain": [
       "['Karachi', ['Lahore'], 'Quetta']"
      ]
     },
     "execution_count": 2,
     "metadata": {},
     "output_type": "execute_result"
    }
   ],
   "source": [
    "z = [\"Karachi\",[\"Lahore\"],\"Quetta\"]\n",
    "e = z[:] # Note: z.copy() \n",
    "e"
   ]
  },
  {
   "cell_type": "code",
   "execution_count": 3,
   "id": "335ade3a-0cec-4aba-9c03-b35952b9c0dd",
   "metadata": {},
   "outputs": [],
   "source": [
    "e[1][0] = \"Islamabad\""
   ]
  },
  {
   "cell_type": "code",
   "execution_count": 4,
   "id": "1caaf336-aec7-4854-9066-71a0ebac74cd",
   "metadata": {},
   "outputs": [
    {
     "data": {
      "text/plain": [
       "['Karachi', ['Islamabad'], 'Quetta']"
      ]
     },
     "execution_count": 4,
     "metadata": {},
     "output_type": "execute_result"
    }
   ],
   "source": [
    "e"
   ]
  },
  {
   "cell_type": "code",
   "execution_count": 5,
   "id": "ea10f10f-4d42-4482-bf46-0165f1b105f6",
   "metadata": {},
   "outputs": [
    {
     "data": {
      "text/plain": [
       "['Karachi', ['Islamabad'], 'Quetta']"
      ]
     },
     "execution_count": 5,
     "metadata": {},
     "output_type": "execute_result"
    }
   ],
   "source": [
    "z"
   ]
  },
  {
   "cell_type": "code",
   "execution_count": 6,
   "id": "9d4866f3-797f-4193-8e41-8595f0807b98",
   "metadata": {},
   "outputs": [],
   "source": [
    "import copy\n",
    "city = ['Karachi', ['Islamabad'], 'Quetta']\n",
    "city1 = copy.deepcopy(city)"
   ]
  },
  {
   "cell_type": "code",
   "execution_count": 7,
   "id": "9a1722e4-04d2-497a-948e-40ce03c0f997",
   "metadata": {},
   "outputs": [
    {
     "data": {
      "text/plain": [
       "['Karachi', ['Islamabad'], 'Quetta']"
      ]
     },
     "execution_count": 7,
     "metadata": {},
     "output_type": "execute_result"
    }
   ],
   "source": [
    "city"
   ]
  },
  {
   "cell_type": "code",
   "execution_count": 8,
   "id": "9db6765e-25a4-48fb-b436-5b7e47173572",
   "metadata": {},
   "outputs": [
    {
     "data": {
      "text/plain": [
       "['Karachi', ['Islamabad'], 'Quetta']"
      ]
     },
     "execution_count": 8,
     "metadata": {},
     "output_type": "execute_result"
    }
   ],
   "source": [
    "city1"
   ]
  },
  {
   "cell_type": "code",
   "execution_count": 9,
   "id": "f314d1f0-3f5c-4b5c-a078-7bf5ae694b84",
   "metadata": {},
   "outputs": [],
   "source": [
    "city1[1][0] = \"Mexico\""
   ]
  },
  {
   "cell_type": "code",
   "execution_count": 10,
   "id": "8e4a7f07-15fc-448a-a7da-010a28317a81",
   "metadata": {},
   "outputs": [
    {
     "data": {
      "text/plain": [
       "['Karachi', ['Mexico'], 'Quetta']"
      ]
     },
     "execution_count": 10,
     "metadata": {},
     "output_type": "execute_result"
    }
   ],
   "source": [
    "city1"
   ]
  },
  {
   "cell_type": "code",
   "execution_count": 11,
   "id": "d3e8fab3-a2dc-4b5d-bf5f-c1f8b71fbb95",
   "metadata": {},
   "outputs": [
    {
     "data": {
      "text/plain": [
       "['Karachi', ['Islamabad'], 'Quetta']"
      ]
     },
     "execution_count": 11,
     "metadata": {},
     "output_type": "execute_result"
    }
   ],
   "source": [
    "city"
   ]
  },
  {
   "cell_type": "code",
   "execution_count": null,
   "id": "670738bc-826d-4d78-974c-8a73b3747546",
   "metadata": {},
   "outputs": [],
   "source": []
  }
 ],
 "metadata": {
  "kernelspec": {
   "display_name": "Python 3 (ipykernel)",
   "language": "python",
   "name": "python3"
  },
  "language_info": {
   "codemirror_mode": {
    "name": "ipython",
    "version": 3
   },
   "file_extension": ".py",
   "mimetype": "text/x-python",
   "name": "python",
   "nbconvert_exporter": "python",
   "pygments_lexer": "ipython3",
   "version": "3.13.5"
  }
 },
 "nbformat": 4,
 "nbformat_minor": 5
}
