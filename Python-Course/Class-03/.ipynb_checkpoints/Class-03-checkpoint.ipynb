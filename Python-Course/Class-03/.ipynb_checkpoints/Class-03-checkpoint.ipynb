{
 "cells": [
  {
   "cell_type": "markdown",
   "id": "6b922ef3-a7c0-466a-bf4b-e3225a9dc870",
   "metadata": {},
   "source": [
    "## Concatenation"
   ]
  },
  {
   "cell_type": "markdown",
   "id": "1a7aad41-84be-47e3-adbd-e51c304d7595",
   "metadata": {},
   "source": [
    "- METHOD-1 (using + operator)\n",
    "- METHOD-2 (using f-string)\n",
    "- METHOD-3 (using .format())"
   ]
  },
  {
   "cell_type": "code",
   "execution_count": 1,
   "id": "e48a2b29-5947-4079-9402-eb057fa613f7",
   "metadata": {},
   "outputs": [],
   "source": [
    "str1 = \"concatenation\"\n",
    "str2 = \"string\""
   ]
  },
  {
   "cell_type": "code",
   "execution_count": 2,
   "id": "0abf8d3a-7c65-461d-9a36-e040cbef13c3",
   "metadata": {},
   "outputs": [
    {
     "data": {
      "text/plain": [
       "'concatenation string'"
      ]
     },
     "execution_count": 2,
     "metadata": {},
     "output_type": "execute_result"
    }
   ],
   "source": [
    "str1 + ' ' + str2 # METHOD-1"
   ]
  },
  {
   "cell_type": "code",
   "execution_count": 3,
   "id": "d897f0d6-e584-44f8-b4f8-9d653bb2f626",
   "metadata": {},
   "outputs": [
    {
     "data": {
      "text/plain": [
       "'Check concatenation string for testing.'"
      ]
     },
     "execution_count": 3,
     "metadata": {},
     "output_type": "execute_result"
    }
   ],
   "source": [
    "f\"Check {str1} {str2} for testing.\" # METHOD-2"
   ]
  },
  {
   "cell_type": "code",
   "execution_count": 4,
   "id": "34b63614-c7d3-48e5-85e9-42d40e56589f",
   "metadata": {},
   "outputs": [
    {
     "data": {
      "text/plain": [
       "'concatenation string'"
      ]
     },
     "execution_count": 4,
     "metadata": {},
     "output_type": "execute_result"
    }
   ],
   "source": [
    "\"{0} {1}\".format(str1, str2) # METHOD-3"
   ]
  },
  {
   "cell_type": "code",
   "execution_count": 5,
   "id": "bdeec27d-2b9a-407f-9189-9f5a3d61cb02",
   "metadata": {},
   "outputs": [
    {
     "data": {
      "text/plain": [
       "'Check concatenation string for testing.'"
      ]
     },
     "execution_count": 5,
     "metadata": {},
     "output_type": "execute_result"
    }
   ],
   "source": [
    "\"Check {0} {1} for testing.\".format(str1, str2)"
   ]
  },
  {
   "cell_type": "markdown",
   "id": "803cbafa-b5f3-4bc5-bda2-95723d40a0b1",
   "metadata": {},
   "source": [
    "## Tasks:Solution"
   ]
  },
  {
   "cell_type": "code",
   "execution_count": 26,
   "id": "71a7b33a-da7e-467e-a8a0-6037735a87bd",
   "metadata": {},
   "outputs": [
    {
     "name": "stdin",
     "output_type": "stream",
     "text": [
      "Enter your first name:  Muhammad\n",
      "Enter your mid name:  Moheed\n",
      "Enter your last name:  Siddiqui\n"
     ]
    }
   ],
   "source": [
    "first_name = input(\"Enter your first name: \")\n",
    "middle_name = input(\"Enter your mid name: \")\n",
    "last_name = input(\"Enter your last name: \")"
   ]
  },
  {
   "cell_type": "markdown",
   "id": "3d789708-637d-44b3-8580-6d3a351df8f1",
   "metadata": {},
   "source": [
    "#### METHOD 1 + Opeartor"
   ]
  },
  {
   "cell_type": "code",
   "execution_count": 27,
   "id": "2530ac4b-50c6-4dcd-844d-e71cec57cff2",
   "metadata": {},
   "outputs": [
    {
     "name": "stdout",
     "output_type": "stream",
     "text": [
      "Muhammad Moheed Siddiqui\n"
     ]
    }
   ],
   "source": [
    "print(first_name + \" \" + middle_name + \" \" + last_name)"
   ]
  },
  {
   "cell_type": "markdown",
   "id": "abf3ef61-162c-4ee0-bc98-267d43be67d2",
   "metadata": {},
   "source": [
    "#### METHOD 2 f-stirng"
   ]
  },
  {
   "cell_type": "code",
   "execution_count": 28,
   "id": "a8349373-c442-4f3a-97e1-57aacd90e731",
   "metadata": {},
   "outputs": [
    {
     "name": "stdout",
     "output_type": "stream",
     "text": [
      "My name is Muhammad Moheed Siddiqui.\n"
     ]
    }
   ],
   "source": [
    "print(f\"My name is {first_name} {middle_name} {last_name}.\")"
   ]
  },
  {
   "cell_type": "markdown",
   "id": "bad319b8-d18f-4b91-b650-7f1387899554",
   "metadata": {},
   "source": [
    "#### MEYHOD 3 .format()"
   ]
  },
  {
   "cell_type": "code",
   "execution_count": 19,
   "id": "33510240-0a02-498f-b65c-e9e3d6ce3f0f",
   "metadata": {},
   "outputs": [
    {
     "name": "stdout",
     "output_type": "stream",
     "text": [
      "My first name is Muhammad Moheed and last name is Siddiqui.\n"
     ]
    }
   ],
   "source": [
    "print(\"My first name is {0} {1} and last name is {2}.\".format(first_name, middle_name, last_name))"
   ]
  },
  {
   "cell_type": "markdown",
   "id": "f3261915-f56e-471b-be4b-a12fa1db6771",
   "metadata": {},
   "source": [
    "## User Input"
   ]
  },
  {
   "cell_type": "code",
   "execution_count": 20,
   "id": "b52a18a7-8451-4ba7-967b-fa3dc181f524",
   "metadata": {},
   "outputs": [
    {
     "name": "stdin",
     "output_type": "stream",
     "text": [
      "Enter your fiest name:  Moheed\n"
     ]
    }
   ],
   "source": [
    "f_name = input(\"Enter your fiest name: \")"
   ]
  },
  {
   "cell_type": "code",
   "execution_count": 21,
   "id": "49322837-5253-4b3f-94c7-8069d5f64762",
   "metadata": {},
   "outputs": [
    {
     "data": {
      "text/plain": [
       "'Moheed'"
      ]
     },
     "execution_count": 21,
     "metadata": {},
     "output_type": "execute_result"
    }
   ],
   "source": [
    "f_name"
   ]
  },
  {
   "cell_type": "code",
   "execution_count": 22,
   "id": "33b4a9b7-b139-4df9-95a2-d914a2564e1c",
   "metadata": {},
   "outputs": [
    {
     "name": "stdin",
     "output_type": "stream",
     "text": [
      "Enter your age:  18\n"
     ]
    }
   ],
   "source": [
    "age = int(input('Enter your age: ')) # NOTE: by default input() returns string type"
   ]
  },
  {
   "cell_type": "code",
   "execution_count": 23,
   "id": "5b467d45-6b62-48e8-ae35-e9905a5e542e",
   "metadata": {},
   "outputs": [
    {
     "data": {
      "text/plain": [
       "18"
      ]
     },
     "execution_count": 23,
     "metadata": {},
     "output_type": "execute_result"
    }
   ],
   "source": [
    "age"
   ]
  },
  {
   "cell_type": "code",
   "execution_count": 24,
   "id": "1d85b877-2e6b-4c58-9b71-1ba27ed74581",
   "metadata": {},
   "outputs": [
    {
     "name": "stdin",
     "output_type": "stream",
     "text": [
      "Enter Your weight 18.3\n"
     ]
    }
   ],
   "source": [
    "weight = float(input(\"Enter Your weight\"))"
   ]
  },
  {
   "cell_type": "code",
   "execution_count": 25,
   "id": "016f4562-b613-405c-88d3-f1f285056170",
   "metadata": {},
   "outputs": [
    {
     "data": {
      "text/plain": [
       "18.3"
      ]
     },
     "execution_count": 25,
     "metadata": {},
     "output_type": "execute_result"
    }
   ],
   "source": [
    "weight"
   ]
  },
  {
   "cell_type": "markdown",
   "id": "1d03c8d1-312e-44c8-9c7c-3e75eb755650",
   "metadata": {},
   "source": [
    "## Conditional Statement"
   ]
  },
  {
   "cell_type": "markdown",
   "id": "f182f276-7aea-49d9-833c-74ee4223a0a8",
   "metadata": {},
   "source": [
    "- if\n",
    "- elif\n",
    "- else"
   ]
  },
  {
   "cell_type": "markdown",
   "id": "5520e01d-cfa3-49ea-86b0-dab7d6663080",
   "metadata": {},
   "source": [
    "### Syntax"
   ]
  },
  {
   "cell_type": "code",
   "execution_count": null,
   "id": "014686a1-f20d-4a2b-b609-39ad126cdc23",
   "metadata": {},
   "outputs": [],
   "source": [
    "if <condition>:\n",
    "    <body>\n",
    "else:\n",
    "    <body>"
   ]
  },
  {
   "cell_type": "markdown",
   "id": "c843d53a-1ff2-4206-aa29-1a817bc18241",
   "metadata": {},
   "source": [
    "### ElIf Statement"
   ]
  },
  {
   "cell_type": "code",
   "execution_count": 47,
   "id": "851b4cff-7610-4c44-a3e3-5063e92b4a61",
   "metadata": {},
   "outputs": [
    {
     "name": "stdin",
     "output_type": "stream",
     "text": [
      "Enter your marks:  20\n"
     ]
    },
    {
     "name": "stdout",
     "output_type": "stream",
     "text": [
      "You are Fail and your grade is F\n"
     ]
    }
   ],
   "source": [
    "marks = int(input(\"Enter your marks: \"))\n",
    "\n",
    "if marks >= 90:\n",
    "    print(\"Your grade is A+\")\n",
    "elif marks >= 80:\n",
    "    print(\"Your grade is A\")\n",
    "elif marks >= 70:\n",
    "    print(\"Your grade is B\")\n",
    "elif marks >= 60:\n",
    "    print(\"Your grade is C\")\n",
    "elif marks >= 40:\n",
    "    print(\"Your grade is D\")\n",
    "else:\n",
    "    print(\"Your grade is F\")"
   ]
  },
  {
   "cell_type": "markdown",
   "id": "a1580069-f8c1-4d98-90da-6ec34d934608",
   "metadata": {},
   "source": [
    "## Nested If"
   ]
  },
  {
   "cell_type": "code",
   "execution_count": 51,
   "id": "1871a962-f7d9-4be6-bfae-a73af7b3bb4d",
   "metadata": {},
   "outputs": [
    {
     "name": "stdout",
     "output_type": "stream",
     "text": [
      "Shop is open, have to check for rice now.\n"
     ]
    },
    {
     "name": "stdin",
     "output_type": "stream",
     "text": [
      "Check for rice:  True\n"
     ]
    },
    {
     "name": "stdout",
     "output_type": "stream",
     "text": [
      "Buy 1KG\n"
     ]
    }
   ],
   "source": [
    "shop_open = True\n",
    "basmatic_rice = False\n",
    "\n",
    "if shop_open:\n",
    "    print(\"Shop is open, have to check for rice now.\")\n",
    "    basmatic_rice = input(\"Check for rice: \")\n",
    "    if basmatic_rice == \"True\":\n",
    "        print(\"Buy 1KG\")\n",
    "    else:\n",
    "        print(\"Buy Nothing\")\n",
    "else:\n",
    "    print(\"Shop is Closed.\")"
   ]
  },
  {
   "cell_type": "markdown",
   "id": "f075703d-c5f4-4645-b8b4-a1611804d765",
   "metadata": {},
   "source": [
    "## Task"
   ]
  },
  {
   "cell_type": "code",
   "execution_count": 56,
   "id": "c8887f0d-7c9e-4f85-ba61-7d5de680f5b9",
   "metadata": {},
   "outputs": [
    {
     "name": "stdin",
     "output_type": "stream",
     "text": [
      "Enter your age:  18\n"
     ]
    },
    {
     "name": "stdout",
     "output_type": "stream",
     "text": [
      "Your are eligible.\n"
     ]
    }
   ],
   "source": [
    "age = int(input(\"Enter your age: \"))\n",
    "\n",
    "if age > 17:\n",
    "    print(\"Your are eligible.\")\n",
    "else:\n",
    "    print(\"Your are not eligible.\")"
   ]
  },
  {
   "cell_type": "code",
   "execution_count": 77,
   "id": "46af9305-dfef-4de2-8721-39de71c521a2",
   "metadata": {},
   "outputs": [
    {
     "name": "stdin",
     "output_type": "stream",
     "text": [
      "Enter your number:  3\n"
     ]
    },
    {
     "name": "stdout",
     "output_type": "stream",
     "text": [
      "The number is odd\n"
     ]
    }
   ],
   "source": [
    "number = int(input(\"Enter your number: \"))\n",
    "\n",
    "if number % 2 == 0:\n",
    "    print(\"The number is even\")\n",
    "else:\n",
    "    print(\"The number is odd\")"
   ]
  },
  {
   "cell_type": "code",
   "execution_count": 76,
   "id": "9f7231bb-6071-40fb-a323-15fbd9001dc6",
   "metadata": {},
   "outputs": [
    {
     "name": "stdin",
     "output_type": "stream",
     "text": [
      "Enter your number:  35\n"
     ]
    },
    {
     "name": "stdout",
     "output_type": "stream",
     "text": [
      "Hello\n"
     ]
    }
   ],
   "source": [
    "number = int(input(\"Enter your number: \"))\n",
    "\n",
    "if number % 5 == 0:\n",
    "    print(f\"Hello\")\n",
    "else:\n",
    "    print(f\"Bye\")"
   ]
  },
  {
   "cell_type": "markdown",
   "id": "83bb8f1d-97b9-4510-b7e8-e277663586d5",
   "metadata": {},
   "source": [
    "### Operator"
   ]
  },
  {
   "cell_type": "markdown",
   "id": "9cc4fe7d-c0aa-44ff-92bc-75a978f070e0",
   "metadata": {},
   "source": [
    "- NOT\n",
    "- AND\n",
    "- OR"
   ]
  },
  {
   "cell_type": "code",
   "execution_count": 85,
   "id": "be81d095-fb27-4129-b5d5-b75562fdda05",
   "metadata": {},
   "outputs": [
    {
     "name": "stdin",
     "output_type": "stream",
     "text": [
      "Enter Your marks:  100\n"
     ]
    },
    {
     "name": "stdout",
     "output_type": "stream",
     "text": [
      "Your grade is A.\n"
     ]
    }
   ],
   "source": [
    "marks = int(input(\"Enter Your marks: \"))\n",
    "\n",
    "if marks >= 80 and marks <= 100:\n",
    "    print(\"Your grade is A.\")\n",
    "elif marks > 60 and marks < 80:\n",
    "    print(\"Your grade is B.\")\n",
    "elif marks > 50 and marks < 60:\n",
    "    print(\"Your grade is C.\")\n",
    "elif marks > 45 and marks < 50:\n",
    "    print(\"Your grade is D.\")\n",
    "elif marks > 25 and marks < 45:\n",
    "    print(\"Your grade is E.\")\n",
    "elif marks >= 0 and marks <= 25:\n",
    "    print(\"Your grade is F\")\n",
    "else:\n",
    "    print(\"invalid input\")"
   ]
  },
  {
   "cell_type": "markdown",
   "id": "65487b2d-3fe9-4a6a-986c-e966114d511a",
   "metadata": {},
   "source": [
    "### Comments"
   ]
  },
  {
   "cell_type": "code",
   "execution_count": 86,
   "id": "b537f089-26ec-4102-be45-82a6096e573b",
   "metadata": {},
   "outputs": [],
   "source": [
    "# This is a single line comment"
   ]
  },
  {
   "cell_type": "code",
   "execution_count": 89,
   "id": "67c0fb44-415d-4594-aa3a-2aa7e704af64",
   "metadata": {},
   "outputs": [
    {
     "data": {
      "text/plain": [
       "'\\nThis is a multi line comments.\\nThis is a multi line comments.\\nThis is a multi line comments.\\n'"
      ]
     },
     "execution_count": 89,
     "metadata": {},
     "output_type": "execute_result"
    }
   ],
   "source": [
    "'''\n",
    "This is a multi line comments.\n",
    "This is a multi line comments.\n",
    "This is a multi line comments.\n",
    "'''"
   ]
  },
  {
   "cell_type": "markdown",
   "id": "95fd6968-9277-4d8e-a40f-9afac43ba859",
   "metadata": {},
   "source": [
    "## Methods of any type"
   ]
  },
  {
   "cell_type": "code",
   "execution_count": 93,
   "id": "f4b4da64-43db-4971-a3bf-e5a5329c9558",
   "metadata": {},
   "outputs": [],
   "source": [
    "str = \"Moheed Siddiqui\""
   ]
  },
  {
   "cell_type": "code",
   "execution_count": null,
   "id": "130b2575-ce1f-40fa-a587-d9379f7bf1c4",
   "metadata": {},
   "outputs": [],
   "source": [
    "# NOTE: Slicing always happen from first to before the last limit"
   ]
  },
  {
   "cell_type": "markdown",
   "id": "1ee48f7e-17d6-4ab7-8c3d-77ef1cbadeac",
   "metadata": {},
   "source": [
    "### Positive Slicing"
   ]
  },
  {
   "cell_type": "code",
   "execution_count": 97,
   "id": "aa8b9913-f8ed-4e1c-ab83-8c7a48e1ee53",
   "metadata": {},
   "outputs": [
    {
     "data": {
      "text/plain": [
       "'Moheed'"
      ]
     },
     "execution_count": 97,
     "metadata": {},
     "output_type": "execute_result"
    }
   ],
   "source": [
    "str[0:6] # Slicing on string"
   ]
  },
  {
   "cell_type": "code",
   "execution_count": 99,
   "id": "3faf655a-d8f5-4b98-b6fc-be980f1abe54",
   "metadata": {},
   "outputs": [],
   "source": [
    "str2 = \"This is Saylani CDE Batch-3 class\""
   ]
  },
  {
   "cell_type": "code",
   "execution_count": 107,
   "id": "01ad5790-06af-4343-b6f0-a4c52037c980",
   "metadata": {},
   "outputs": [
    {
     "data": {
      "text/plain": [
       "'CDE Batch-3'"
      ]
     },
     "execution_count": 107,
     "metadata": {},
     "output_type": "execute_result"
    }
   ],
   "source": [
    "str2[16:27]"
   ]
  },
  {
   "cell_type": "markdown",
   "id": "cc65bc58-349f-43ed-9e08-17b637ecdad1",
   "metadata": {},
   "source": [
    "### Negative Slicing"
   ]
  },
  {
   "cell_type": "code",
   "execution_count": 109,
   "id": "36f18e72-b6dc-4fb2-ad41-28f478b3fcff",
   "metadata": {},
   "outputs": [
    {
     "data": {
      "text/plain": [
       "'CDE Batch-3'"
      ]
     },
     "execution_count": 109,
     "metadata": {},
     "output_type": "execute_result"
    }
   ],
   "source": [
    "str2[-17:-6]"
   ]
  },
  {
   "cell_type": "markdown",
   "id": "6e19c731-615a-43ba-9c1c-9f3ecefb30d2",
   "metadata": {},
   "source": [
    "### Method of string"
   ]
  },
  {
   "cell_type": "code",
   "execution_count": 90,
   "id": "4a3ce24e-f613-4c72-ae52-9b1177ab911f",
   "metadata": {},
   "outputs": [
    {
     "data": {
      "text/plain": [
       "1"
      ]
     },
     "execution_count": 90,
     "metadata": {},
     "output_type": "execute_result"
    }
   ],
   "source": [
    "# string.count(value, start, end)\n",
    "\"Moheed\".count(\"o\")"
   ]
  },
  {
   "cell_type": "code",
   "execution_count": 110,
   "id": "49e909de-b51e-4c51-8005-f1d5a181b75a",
   "metadata": {},
   "outputs": [
    {
     "data": {
      "text/plain": [
       "'Moheed'"
      ]
     },
     "execution_count": 110,
     "metadata": {},
     "output_type": "execute_result"
    }
   ],
   "source": [
    "\"{0}\".format(\"Moheed\")"
   ]
  },
  {
   "cell_type": "code",
   "execution_count": 114,
   "id": "7b1deb44-f922-4519-abc2-cbbbc1f5c5b1",
   "metadata": {},
   "outputs": [
    {
     "data": {
      "text/plain": [
       "'deehoM'"
      ]
     },
     "execution_count": 114,
     "metadata": {},
     "output_type": "execute_result"
    }
   ],
   "source": [
    "str3 = \"Moheed\"\n",
    "str3[::-1]"
   ]
  },
  {
   "cell_type": "code",
   "execution_count": 115,
   "id": "04d39917-5af9-4bbe-83db-6ccc83ddc964",
   "metadata": {},
   "outputs": [
    {
     "data": {
      "text/plain": [
       "'MOHEED'"
      ]
     },
     "execution_count": 115,
     "metadata": {},
     "output_type": "execute_result"
    }
   ],
   "source": [
    "\"Moheed\".upper()"
   ]
  },
  {
   "cell_type": "code",
   "execution_count": 116,
   "id": "f2e1559e-b5df-401d-a94c-6b093386122a",
   "metadata": {},
   "outputs": [
    {
     "data": {
      "text/plain": [
       "'moheed'"
      ]
     },
     "execution_count": 116,
     "metadata": {},
     "output_type": "execute_result"
    }
   ],
   "source": [
    "\"Moheed\".lower()"
   ]
  },
  {
   "cell_type": "code",
   "execution_count": 117,
   "id": "1d95942f-7400-47b7-b446-6dbb5359e755",
   "metadata": {},
   "outputs": [
    {
     "data": {
      "text/plain": [
       "'Moheed'"
      ]
     },
     "execution_count": 117,
     "metadata": {},
     "output_type": "execute_result"
    }
   ],
   "source": [
    "\"Moheed\".title()"
   ]
  },
  {
   "cell_type": "code",
   "execution_count": null,
   "id": "368035a8-f38f-495c-affe-f8788e797b9f",
   "metadata": {},
   "outputs": [],
   "source": []
  }
 ],
 "metadata": {
  "kernelspec": {
   "display_name": "Python 3 (ipykernel)",
   "language": "python",
   "name": "python3"
  },
  "language_info": {
   "codemirror_mode": {
    "name": "ipython",
    "version": 3
   },
   "file_extension": ".py",
   "mimetype": "text/x-python",
   "name": "python",
   "nbconvert_exporter": "python",
   "pygments_lexer": "ipython3",
   "version": "3.13.5"
  }
 },
 "nbformat": 4,
 "nbformat_minor": 5
}
