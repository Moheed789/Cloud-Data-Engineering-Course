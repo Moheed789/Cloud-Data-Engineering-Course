{
 "cells": [
  {
   "cell_type": "code",
   "execution_count": 3,
   "id": "0bb1b4b3-0974-4e1f-8042-af501c7c6104",
   "metadata": {},
   "outputs": [
    {
     "name": "stdout",
     "output_type": "stream",
     "text": [
      "Hello world...\n"
     ]
    }
   ],
   "source": [
    "print(\"Hello world...\")"
   ]
  },
  {
   "cell_type": "markdown",
   "id": "959c15a0-072f-4f0d-86d8-128b367ba1d1",
   "metadata": {},
   "source": [
    "## SHORTCUTS JUPYTER NOTEBOOK"
   ]
  },
  {
   "cell_type": "markdown",
   "id": "1d070ebd-a861-4728-a9ae-eed0ee35edca",
   "metadata": {},
   "source": [
    "- ESC + M (to convert cell into markdown)\n",
    "- ESC + R (to convert cell into row)\n",
    "- ESC + Y (to convert cell into code)\n",
    "- #1 ... #6 (for level-1/level 6 heading)\n",
    "- ESC + A (to create cell above the present cell)\n",
    "- ESC + B (to create cell below the present cell)\n",
    "- ESC + DD (to delete the cell on which you are present)\n",
    "- SHIFT + ENTER (to run the cell and goto next cell)\n",
    "- CTRL + ENTER (to run the cell not goto next cell)\n",
    "- CTRL + SHIFT + H (to get all jupyter notebook shortcuts)"
   ]
  },
  {
   "cell_type": "markdown",
   "id": "c09f2128-71f5-4a32-af80-b7f68cafb8e1",
   "metadata": {},
   "source": [
    "# This is level-1 heading\n",
    "## This is level-2 heading\n",
    "### This is level-3 heading\n",
    "#### This is level-4 heading\n",
    "##### This is level-5 heading\n",
    "###### This is level-6 heading"
   ]
  },
  {
   "cell_type": "markdown",
   "id": "2b3c74e0-b1db-472e-8cd9-eb4080df0c65",
   "metadata": {},
   "source": [
    "## Variables"
   ]
  },
  {
   "cell_type": "code",
   "execution_count": 4,
   "id": "47a9cd18-f303-4963-a588-bb5dba2ab3f8",
   "metadata": {},
   "outputs": [],
   "source": [
    "name = \"Moheed Siddiqui\""
   ]
  },
  {
   "cell_type": "code",
   "execution_count": 5,
   "id": "2ef26d21-cd11-4e74-ab12-2524729691fd",
   "metadata": {},
   "outputs": [
    {
     "data": {
      "text/plain": [
       "'Moheed Siddiqui'"
      ]
     },
     "execution_count": 5,
     "metadata": {},
     "output_type": "execute_result"
    }
   ],
   "source": [
    "name # variable of type string"
   ]
  },
  {
   "cell_type": "code",
   "execution_count": 6,
   "id": "cec11ffa-5b05-4833-9103-5146b6b8441e",
   "metadata": {},
   "outputs": [],
   "source": [
    "age = 18"
   ]
  },
  {
   "cell_type": "code",
   "execution_count": 7,
   "id": "c7ce5c70-367c-4401-8aa4-bc27196d1c20",
   "metadata": {},
   "outputs": [
    {
     "data": {
      "text/plain": [
       "18"
      ]
     },
     "execution_count": 7,
     "metadata": {},
     "output_type": "execute_result"
    }
   ],
   "source": [
    "age # variable of type integer"
   ]
  },
  {
   "cell_type": "code",
   "execution_count": 8,
   "id": "8589ee99-9403-423a-89c0-615f49ef9291",
   "metadata": {},
   "outputs": [],
   "source": [
    "weight = 20.5"
   ]
  },
  {
   "cell_type": "code",
   "execution_count": 9,
   "id": "05c817d2-76f1-4f72-a980-41d83c33fe51",
   "metadata": {},
   "outputs": [
    {
     "data": {
      "text/plain": [
       "20.5"
      ]
     },
     "execution_count": 9,
     "metadata": {},
     "output_type": "execute_result"
    }
   ],
   "source": [
    "weight # variable of type float"
   ]
  },
  {
   "cell_type": "code",
   "execution_count": 12,
   "id": "35e906ca-dbd2-4916-8b10-317e919cd625",
   "metadata": {},
   "outputs": [],
   "source": [
    "is_present = True"
   ]
  },
  {
   "cell_type": "code",
   "execution_count": 13,
   "id": "bcfc91ab-7e17-4fd1-9d9b-ca0f53e1174f",
   "metadata": {},
   "outputs": [
    {
     "data": {
      "text/plain": [
       "True"
      ]
     },
     "execution_count": 13,
     "metadata": {},
     "output_type": "execute_result"
    }
   ],
   "source": [
    "is_present # variable of type boolean"
   ]
  },
  {
   "cell_type": "code",
   "execution_count": 17,
   "id": "ba23a16d-913f-4899-866b-48e33c75ce2c",
   "metadata": {},
   "outputs": [
    {
     "name": "stdout",
     "output_type": "stream",
     "text": [
      "<class 'str'>\n",
      "<class 'int'>\n",
      "<class 'float'>\n",
      "<class 'bool'>\n"
     ]
    }
   ],
   "source": [
    "# additional stuff\n",
    "# 1. type() - to give you the type of the variable\n",
    "# 2. id() - to give you the address of the variable\n",
    "\n",
    "print(type(name))\n",
    "print(type(age))\n",
    "print(type(weight))\n",
    "print(type(is_present))"
   ]
  },
  {
   "cell_type": "code",
   "execution_count": 18,
   "id": "ff6efd6b-3434-4557-9d1f-877c97578977",
   "metadata": {},
   "outputs": [
    {
     "data": {
      "text/plain": [
       "1962479110576"
      ]
     },
     "execution_count": 18,
     "metadata": {},
     "output_type": "execute_result"
    }
   ],
   "source": [
    "id(name)"
   ]
  },
  {
   "cell_type": "markdown",
   "id": "65015527-1eb7-4925-b372-ce28d57f21ac",
   "metadata": {},
   "source": [
    "## Operators"
   ]
  },
  {
   "cell_type": "code",
   "execution_count": 19,
   "id": "f94a1503-618b-4c37-bcc6-e514ec9c435a",
   "metadata": {},
   "outputs": [
    {
     "data": {
      "text/plain": [
       "5"
      ]
     },
     "execution_count": 19,
     "metadata": {},
     "output_type": "execute_result"
    }
   ],
   "source": [
    "2+3"
   ]
  },
  {
   "cell_type": "code",
   "execution_count": 20,
   "id": "9a784191-5b05-4a63-980f-99ca73aa9d19",
   "metadata": {},
   "outputs": [
    {
     "data": {
      "text/plain": [
       "1"
      ]
     },
     "execution_count": 20,
     "metadata": {},
     "output_type": "execute_result"
    }
   ],
   "source": [
    "3-2"
   ]
  },
  {
   "cell_type": "code",
   "execution_count": 21,
   "id": "48719594-bcbc-4f37-ac3f-66823dc764d1",
   "metadata": {},
   "outputs": [
    {
     "data": {
      "text/plain": [
       "3.0"
      ]
     },
     "execution_count": 21,
     "metadata": {},
     "output_type": "execute_result"
    }
   ],
   "source": [
    "6/2"
   ]
  },
  {
   "cell_type": "code",
   "execution_count": 23,
   "id": "f00b78ca-555c-4da4-93ac-680d649bf626",
   "metadata": {},
   "outputs": [
    {
     "data": {
      "text/plain": [
       "3.5"
      ]
     },
     "execution_count": 23,
     "metadata": {},
     "output_type": "execute_result"
    }
   ],
   "source": [
    "7/2"
   ]
  },
  {
   "cell_type": "code",
   "execution_count": 24,
   "id": "92b5201a-39c4-4c30-8beb-915dcf36362d",
   "metadata": {},
   "outputs": [
    {
     "data": {
      "text/plain": [
       "3"
      ]
     },
     "execution_count": 24,
     "metadata": {},
     "output_type": "execute_result"
    }
   ],
   "source": [
    "7//2 # floor operator"
   ]
  },
  {
   "cell_type": "code",
   "execution_count": 25,
   "id": "a99bc18f-9387-412e-b804-d84543547dde",
   "metadata": {},
   "outputs": [
    {
     "data": {
      "text/plain": [
       "8"
      ]
     },
     "execution_count": 25,
     "metadata": {},
     "output_type": "execute_result"
    }
   ],
   "source": [
    "2**3 # power operator"
   ]
  },
  {
   "cell_type": "markdown",
   "id": "fdaa51b1-b72d-4073-98ef-4fa97bc4d73d",
   "metadata": {},
   "source": [
    "## Expressions"
   ]
  },
  {
   "cell_type": "markdown",
   "id": "a58bfc06-acc4-4150-a2aa-972b0320b6bf",
   "metadata": {},
   "source": [
    "#### PEMDAS"
   ]
  },
  {
   "cell_type": "markdown",
   "id": "bc0a6db1-5aa7-48e3-9b17-e68d343c2fa9",
   "metadata": {},
   "source": [
    "- Paranthesis\n",
    "- Expontential (power)\n",
    "- Multiplication\n",
    "- Division\n",
    "- Addition\n",
    "- Subtraction"
   ]
  },
  {
   "cell_type": "markdown",
   "id": "94f49878-e8a5-4096-9c3b-adf424042302",
   "metadata": {},
   "source": [
    "## Advance Operators"
   ]
  },
  {
   "cell_type": "markdown",
   "id": "3530c7d9-f50c-4103-b544-92197b3acc2f",
   "metadata": {},
   "source": [
    "- +=\n",
    "- -=\n",
    "- /=\n",
    "- *="
   ]
  },
  {
   "cell_type": "code",
   "execution_count": 33,
   "id": "3cb5a4a2-7ab1-45e0-bfa4-7297aa3debda",
   "metadata": {},
   "outputs": [],
   "source": [
    "number1 = 5\n",
    "number2 = 4"
   ]
  },
  {
   "cell_type": "code",
   "execution_count": 36,
   "id": "28b7f115-621c-466b-b769-90e6c3230baf",
   "metadata": {},
   "outputs": [],
   "source": [
    "number1 += number2"
   ]
  },
  {
   "cell_type": "code",
   "execution_count": 35,
   "id": "20269869-a244-4dcb-90f5-d7cfca493079",
   "metadata": {},
   "outputs": [
    {
     "data": {
      "text/plain": [
       "5"
      ]
     },
     "execution_count": 35,
     "metadata": {},
     "output_type": "execute_result"
    }
   ],
   "source": [
    "number1"
   ]
  },
  {
   "cell_type": "code",
   "execution_count": 37,
   "id": "54ee9393-40a7-4fff-b8ed-11850318f425",
   "metadata": {},
   "outputs": [
    {
     "data": {
      "text/plain": [
       "4"
      ]
     },
     "execution_count": 37,
     "metadata": {},
     "output_type": "execute_result"
    }
   ],
   "source": [
    "number2"
   ]
  },
  {
   "cell_type": "code",
   "execution_count": 38,
   "id": "c0decafd-625b-4fcd-9b38-8289764f5aef",
   "metadata": {},
   "outputs": [],
   "source": [
    "number1 -= number2"
   ]
  },
  {
   "cell_type": "code",
   "execution_count": 39,
   "id": "0e20e777-64bb-4046-b629-fba827fea484",
   "metadata": {},
   "outputs": [],
   "source": [
    "number1 *= number2"
   ]
  },
  {
   "cell_type": "code",
   "execution_count": 40,
   "id": "b8b246b9-6698-44a4-afe7-c350a1834826",
   "metadata": {},
   "outputs": [],
   "source": [
    "number1 /= number2"
   ]
  },
  {
   "cell_type": "code",
   "execution_count": null,
   "id": "4d10ab10-2242-4c3d-a26e-21df779efebc",
   "metadata": {},
   "outputs": [],
   "source": [
    "- >\n",
    "- <\n",
    "- >=\n",
    "- <=\n",
    "- <> or !="
   ]
  },
  {
   "cell_type": "code",
   "execution_count": 42,
   "id": "26c52ff6-7ecf-4d25-b7da-54cfe987739b",
   "metadata": {},
   "outputs": [
    {
     "data": {
      "text/plain": [
       "True"
      ]
     },
     "execution_count": 42,
     "metadata": {},
     "output_type": "execute_result"
    }
   ],
   "source": [
    "5 > 2"
   ]
  },
  {
   "cell_type": "code",
   "execution_count": 43,
   "id": "714ba9f9-bf6d-48f5-9399-565e4f516515",
   "metadata": {},
   "outputs": [
    {
     "data": {
      "text/plain": [
       "False"
      ]
     },
     "execution_count": 43,
     "metadata": {},
     "output_type": "execute_result"
    }
   ],
   "source": [
    "5 < 2"
   ]
  },
  {
   "cell_type": "code",
   "execution_count": 44,
   "id": "51deac67-0b57-4608-aff7-eb5603e5d6b1",
   "metadata": {},
   "outputs": [
    {
     "data": {
      "text/plain": [
       "True"
      ]
     },
     "execution_count": 44,
     "metadata": {},
     "output_type": "execute_result"
    }
   ],
   "source": [
    "5 == 5"
   ]
  },
  {
   "cell_type": "code",
   "execution_count": 45,
   "id": "5a625930-953e-4965-b85c-07309fbbebbb",
   "metadata": {},
   "outputs": [
    {
     "data": {
      "text/plain": [
       "True"
      ]
     },
     "execution_count": 45,
     "metadata": {},
     "output_type": "execute_result"
    }
   ],
   "source": [
    "5 >= 5"
   ]
  },
  {
   "cell_type": "code",
   "execution_count": 46,
   "id": "fe5786e8-f517-41ee-8cd8-9d5ae97ae8ce",
   "metadata": {},
   "outputs": [
    {
     "data": {
      "text/plain": [
       "False"
      ]
     },
     "execution_count": 46,
     "metadata": {},
     "output_type": "execute_result"
    }
   ],
   "source": [
    "5 >= 6"
   ]
  },
  {
   "cell_type": "code",
   "execution_count": 47,
   "id": "6001bb3a-1aa6-4d5e-a8f2-1f348d380b09",
   "metadata": {},
   "outputs": [
    {
     "data": {
      "text/plain": [
       "True"
      ]
     },
     "execution_count": 47,
     "metadata": {},
     "output_type": "execute_result"
    }
   ],
   "source": [
    "5 <= 6"
   ]
  },
  {
   "cell_type": "code",
   "execution_count": 48,
   "id": "d74d7d98-50b3-4900-857c-c5315d33bd97",
   "metadata": {},
   "outputs": [
    {
     "data": {
      "text/plain": [
       "False"
      ]
     },
     "execution_count": 48,
     "metadata": {},
     "output_type": "execute_result"
    }
   ],
   "source": [
    "1 != 1"
   ]
  },
  {
   "cell_type": "markdown",
   "id": "c0d36816-78b6-4057-a31b-75fa38fb0c77",
   "metadata": {},
   "source": [
    "## Concatenating text string"
   ]
  },
  {
   "cell_type": "code",
   "execution_count": 49,
   "id": "2e76103d-f284-49e5-baf0-3de272049ef4",
   "metadata": {},
   "outputs": [],
   "source": [
    "f_name = \"Moheed\""
   ]
  },
  {
   "cell_type": "code",
   "execution_count": 50,
   "id": "b03b5d01-f13b-40e0-9840-6c253e12e7ed",
   "metadata": {},
   "outputs": [],
   "source": [
    "l_name = \"Siddiqui\""
   ]
  },
  {
   "cell_type": "code",
   "execution_count": 53,
   "id": "3728a22e-72bb-4f01-9e25-ac9b6e9d5062",
   "metadata": {},
   "outputs": [],
   "source": [
    "full_name = f_name + \" \" + l_name # METHOD-1 using + operator"
   ]
  },
  {
   "cell_type": "code",
   "execution_count": 54,
   "id": "1375f95e-d69e-49a4-ad99-4234bf3ae016",
   "metadata": {},
   "outputs": [
    {
     "data": {
      "text/plain": [
       "'Moheed Siddiqui'"
      ]
     },
     "execution_count": 54,
     "metadata": {},
     "output_type": "execute_result"
    }
   ],
   "source": [
    "full_name"
   ]
  },
  {
   "cell_type": "code",
   "execution_count": 55,
   "id": "0a6c439d-a9b0-404c-ac0f-5e93373a9a3c",
   "metadata": {},
   "outputs": [],
   "source": [
    "full_name = f\"{f_name} {l_name}\" #METHOD-2 using f string"
   ]
  },
  {
   "cell_type": "code",
   "execution_count": 56,
   "id": "554059b8-8fad-4949-bc16-820386acd6d9",
   "metadata": {},
   "outputs": [
    {
     "data": {
      "text/plain": [
       "'Moheed Siddiqui'"
      ]
     },
     "execution_count": 56,
     "metadata": {},
     "output_type": "execute_result"
    }
   ],
   "source": [
    "full_name"
   ]
  },
  {
   "cell_type": "code",
   "execution_count": 57,
   "id": "ac912624-7b11-4567-82e3-a62b50c502a9",
   "metadata": {},
   "outputs": [],
   "source": [
    "full_name = \"{0} {1}\".format(f_name, l_name) # METHOD-3 using .format()"
   ]
  },
  {
   "cell_type": "code",
   "execution_count": 58,
   "id": "18947f9f-1c54-4b98-8714-05e8811d1fa0",
   "metadata": {},
   "outputs": [
    {
     "data": {
      "text/plain": [
       "'Moheed Siddiqui'"
      ]
     },
     "execution_count": 58,
     "metadata": {},
     "output_type": "execute_result"
    }
   ],
   "source": [
    "full_name"
   ]
  },
  {
   "cell_type": "code",
   "execution_count": 59,
   "id": "7d811224-e75b-47c3-bf62-726b256c0803",
   "metadata": {},
   "outputs": [
    {
     "data": {
      "text/plain": [
       "'This is a class of saylani batch-03.'"
      ]
     },
     "execution_count": 59,
     "metadata": {},
     "output_type": "execute_result"
    }
   ],
   "source": [
    "\"This is a class of {0} {1}.\".format(\"saylani\", \"batch-03\")"
   ]
  },
  {
   "cell_type": "code",
   "execution_count": 60,
   "id": "b61e3987-2e96-4f64-adfd-9108ff77afb6",
   "metadata": {},
   "outputs": [
    {
     "data": {
      "text/plain": [
       "'My name is Moheed Siddiqui.'"
      ]
     },
     "execution_count": 60,
     "metadata": {},
     "output_type": "execute_result"
    }
   ],
   "source": [
    "\"My name is {0} {1}.\".format(f_name, l_name)"
   ]
  },
  {
   "cell_type": "code",
   "execution_count": null,
   "id": "7a395394-3c07-4b8e-b1b1-9952afa745e3",
   "metadata": {},
   "outputs": [],
   "source": []
  }
 ],
 "metadata": {
  "kernelspec": {
   "display_name": "Python 3 (ipykernel)",
   "language": "python",
   "name": "python3"
  },
  "language_info": {
   "codemirror_mode": {
    "name": "ipython",
    "version": 3
   },
   "file_extension": ".py",
   "mimetype": "text/x-python",
   "name": "python",
   "nbconvert_exporter": "python",
   "pygments_lexer": "ipython3",
   "version": "3.13.5"
  }
 },
 "nbformat": 4,
 "nbformat_minor": 5
}
