{
 "cells": [
  {
   "cell_type": "markdown",
   "id": "95d53475-4117-49d0-adf2-16836b45c108",
   "metadata": {},
   "source": [
    "# Task:"
   ]
  },
  {
   "cell_type": "markdown",
   "id": "9b3a3abe-4741-488e-a513-30960975879b",
   "metadata": {},
   "source": [
    "#### Create a student list of names and apply all methods that we learn today"
   ]
  },
  {
   "cell_type": "code",
   "execution_count": 12,
   "id": "640dea64-8820-48cf-9308-084bcfef6139",
   "metadata": {},
   "outputs": [
    {
     "name": "stdout",
     "output_type": "stream",
     "text": [
      "['Wahaj', 'Muqeet', 'Abdullah', 'Moheed', 'Shoaib']\n"
     ]
    }
   ],
   "source": [
    "students_name = [\"Wahaj\", \"Muqeet\", \"Abdullah\", \"Moheed\", \"Shoaib\"]\n",
    "print(students_name)"
   ]
  },
  {
   "cell_type": "code",
   "execution_count": 13,
   "id": "7351dda4-4841-43eb-b705-045b018943a3",
   "metadata": {},
   "outputs": [
    {
     "name": "stdout",
     "output_type": "stream",
     "text": [
      "Append: ['Wahaj', 'Muqeet', 'Abdullah', 'Moheed', 'Shoaib', 'Tahir']\n"
     ]
    }
   ],
   "source": [
    "students_name.append(\"Tahir\")\n",
    "print(\"Append:\", students_name)"
   ]
  },
  {
   "cell_type": "code",
   "execution_count": 14,
   "id": "f6b5f682-539f-4566-9650-a487684bc3e7",
   "metadata": {},
   "outputs": [
    {
     "name": "stdout",
     "output_type": "stream",
     "text": [
      "Count of: 1\n"
     ]
    }
   ],
   "source": [
    "count_name = students_name.count(\"Muqeet\")\n",
    "print(\"Count of:\", count_name)"
   ]
  },
  {
   "cell_type": "code",
   "execution_count": 15,
   "id": "8d060f55-b2cb-49b9-a603-a429e4be80fa",
   "metadata": {},
   "outputs": [
    {
     "name": "stdout",
     "output_type": "stream",
     "text": [
      "Extend: ['Wahaj', 'Muqeet', 'Abdullah', 'Moheed', 'Shoaib', 'Tahir', 'Mutahir', 'Qasim']\n"
     ]
    }
   ],
   "source": [
    "students_name.extend([\"Mutahir\", \"Qasim\"])\n",
    "print(\"Extend:\", students_name)"
   ]
  },
  {
   "cell_type": "code",
   "execution_count": 16,
   "id": "6f80287c-f7c1-4bdf-835d-40e0c398d010",
   "metadata": {},
   "outputs": [
    {
     "name": "stdout",
     "output_type": "stream",
     "text": [
      "Index: 3\n"
     ]
    }
   ],
   "source": [
    "index_name = students_name.index(\"Moheed\")\n",
    "print(\"Index:\", index_name)"
   ]
  },
  {
   "cell_type": "code",
   "execution_count": 17,
   "id": "c03e02a6-eec0-4634-be36-a9d82f0f7752",
   "metadata": {},
   "outputs": [
    {
     "name": "stdout",
     "output_type": "stream",
     "text": [
      "Insert: ['Wahaj', 'Muqeet', 'Abdullah', 'Moheed', 'Dawood', 'Shoaib', 'Tahir', 'Mutahir', 'Qasim']\n"
     ]
    }
   ],
   "source": [
    "students_name.insert(4, \"Dawood\")\n",
    "print(\"Insert:\", students_name)"
   ]
  },
  {
   "cell_type": "code",
   "execution_count": 18,
   "id": "ff82dabc-4196-4bbb-91db-12dd1d40f885",
   "metadata": {},
   "outputs": [
    {
     "name": "stdout",
     "output_type": "stream",
     "text": [
      "Pop: ['Wahaj', 'Muqeet', 'Abdullah', 'Moheed', 'Dawood', 'Shoaib', 'Tahir', 'Mutahir']\n",
      "Removed student: Qasim\n"
     ]
    }
   ],
   "source": [
    "removed_student = students_name.pop()\n",
    "print(\"Pop:\", students_name)\n",
    "print(\"Removed student:\", removed_student)"
   ]
  },
  {
   "cell_type": "code",
   "execution_count": 19,
   "id": "94256039-67cd-4296-a303-44474f19ea0c",
   "metadata": {},
   "outputs": [
    {
     "name": "stdout",
     "output_type": "stream",
     "text": [
      "Pop: ['Wahaj', 'Abdullah', 'Moheed', 'Dawood', 'Shoaib', 'Tahir', 'Mutahir']\n",
      "Removed student at index 1: Muqeet\n"
     ]
    }
   ],
   "source": [
    "removed_student_index = students_name.pop(1)\n",
    "print(\"Pop:\", students_name)\n",
    "print(\"Removed student at index 1:\", removed_student_index)"
   ]
  },
  {
   "cell_type": "code",
   "execution_count": 20,
   "id": "3e274791-5d98-4fb8-b5a5-d5ffe354204c",
   "metadata": {},
   "outputs": [
    {
     "name": "stdout",
     "output_type": "stream",
     "text": [
      "Remove ['Wahaj', 'Abdullah', 'Moheed', 'Dawood', 'Shoaib', 'Mutahir']\n"
     ]
    }
   ],
   "source": [
    "students_name.remove(\"Tahir\")\n",
    "print(\"Remove\", students_name)"
   ]
  },
  {
   "cell_type": "code",
   "execution_count": 21,
   "id": "c74ab9d4-e821-4f88-9dbf-b21c170b6390",
   "metadata": {},
   "outputs": [
    {
     "name": "stdout",
     "output_type": "stream",
     "text": [
      "Reverse: ['Mutahir', 'Shoaib', 'Dawood', 'Moheed', 'Abdullah', 'Wahaj']\n"
     ]
    }
   ],
   "source": [
    "students_name.reverse()\n",
    "print(\"Reverse:\", students_name)"
   ]
  },
  {
   "cell_type": "code",
   "execution_count": 22,
   "id": "0177bfb3-a26f-4786-a104-337d1ca9638e",
   "metadata": {},
   "outputs": [
    {
     "name": "stdout",
     "output_type": "stream",
     "text": [
      "Sort: ['Abdullah', 'Dawood', 'Moheed', 'Mutahir', 'Shoaib', 'Wahaj']\n"
     ]
    }
   ],
   "source": [
    "students_name.sort()\n",
    "print(\"Sort:\", students_name)"
   ]
  },
  {
   "cell_type": "code",
   "execution_count": 23,
   "id": "40a40d7c-980c-4d6d-a0a6-dc5838329880",
   "metadata": {},
   "outputs": [
    {
     "name": "stdout",
     "output_type": "stream",
     "text": [
      "Copy ['Abdullah', 'Dawood', 'Moheed', 'Mutahir', 'Shoaib', 'Wahaj']\n",
      "ID of original: 2633754790720\n",
      "ID of copy: 2633754830016\n"
     ]
    }
   ],
   "source": [
    "students_copy = students_name.copy()\n",
    "print(\"Copy\", students_copy)\n",
    "print(\"ID of original:\", id(students_name))\n",
    "print(\"ID of copy:\", id(students_copy))"
   ]
  },
  {
   "cell_type": "code",
   "execution_count": 24,
   "id": "79134411-0530-4315-a437-cc57f7019910",
   "metadata": {},
   "outputs": [
    {
     "name": "stdout",
     "output_type": "stream",
     "text": [
      "Modifying copy: ['Abdullah', 'Dawood', 'Moheed', 'Mutahir', 'Shoaib', 'Wahaj']\n",
      "Copy modification: ['Abdullah', 'Dawood', 'Moheed', 'Mutahir', 'Shoaib', 'Wahaj', 'New Student']\n"
     ]
    }
   ],
   "source": [
    "students_copy.append(\"New Student\")\n",
    "print(\"Modifying copy:\", students_name)\n",
    "print(\"Copy modification:\", students_copy)"
   ]
  },
  {
   "cell_type": "code",
   "execution_count": 25,
   "id": "b24e0847-c333-4293-985e-d4a23a6460f1",
   "metadata": {},
   "outputs": [
    {
     "name": "stdout",
     "output_type": "stream",
     "text": [
      "Clear: []\n"
     ]
    }
   ],
   "source": [
    "students_name.clear()\n",
    "print(\"Clear:\", students_name)"
   ]
  },
  {
   "cell_type": "code",
   "execution_count": 26,
   "id": "db615335-4d26-4086-a9bc-ce3e3de4277d",
   "metadata": {},
   "outputs": [
    {
     "name": "stdout",
     "output_type": "stream",
     "text": [
      "First 3 students: ['Wahaj', 'Muqeet', 'Abdullah']\n",
      "Students index: ['Abdullah', 'Moheed', 'Shoaib']\n",
      "All students ['Wahaj', 'Muqeet', 'Abdullah', 'Moheed', 'Shoaib']\n",
      "Reverse order: ['Shoaib', 'Moheed', 'Abdullah', 'Muqeet', 'Wahaj']\n"
     ]
    }
   ],
   "source": [
    "students_name = [\"Wahaj\", \"Muqeet\", \"Abdullah\", \"Moheed\", \"Shoaib\"]\n",
    "print(\"First 3 students:\", students_name[0:3])\n",
    "print(\"Students index:\", students_name[2:5])\n",
    "print(\"All students\", students_name[::])\n",
    "print(\"Reverse order:\", students_name[::-1])"
   ]
  },
  {
   "cell_type": "code",
   "execution_count": 27,
   "id": "d718e290-64a4-4d66-a6a0-c4a65c1289f4",
   "metadata": {},
   "outputs": [
    {
     "name": "stdout",
     "output_type": "stream",
     "text": [
      "Total number of students: 5\n"
     ]
    }
   ],
   "source": [
    "print(\"Total number of students:\", len(students_name))"
   ]
  },
  {
   "cell_type": "markdown",
   "id": "bc2645fe-7175-4226-9cfc-30a1b7cdb110",
   "metadata": {},
   "source": [
    "#### Create a student tuple of names and apply all methods that we learn today"
   ]
  },
  {
   "cell_type": "code",
   "execution_count": 28,
   "id": "54362a72-81bd-4bd7-8002-62523129a566",
   "metadata": {},
   "outputs": [
    {
     "name": "stdout",
     "output_type": "stream",
     "text": [
      "Student: ('Wahaj', 'Muqeet', 'Abdullah', 'Moheed', 'Shoaib', 'Muqeet')\n",
      "Type: <class 'tuple'>\n",
      "ID: 2633716586848\n"
     ]
    }
   ],
   "source": [
    "students_tuple = (\"Wahaj\", \"Muqeet\", \"Abdullah\", \"Moheed\", \"Shoaib\", \"Muqeet\")\n",
    "print(\"Student:\", students_tuple)\n",
    "print(\"Type:\", type(students_tuple))\n",
    "print(\"ID:\", id(students_tuple))"
   ]
  },
  {
   "cell_type": "code",
   "execution_count": 30,
   "id": "f89cad3b-669e-48c5-bb70-26f67a95a662",
   "metadata": {},
   "outputs": [
    {
     "name": "stdout",
     "output_type": "stream",
     "text": [
      "Count of : 2\n"
     ]
    }
   ],
   "source": [
    "count_student = students_tuple.count(\"Muqeet\")\n",
    "print(\"Count of :\", count_student)"
   ]
  },
  {
   "cell_type": "code",
   "execution_count": 31,
   "id": "608e2ed4-b323-454d-bca7-716f88d2647c",
   "metadata": {},
   "outputs": [
    {
     "name": "stdout",
     "output_type": "stream",
     "text": [
      "Index of: 3\n"
     ]
    }
   ],
   "source": [
    "student_index = students_tuple.index(\"Moheed\")\n",
    "print(\"Index of:\", student_index)"
   ]
  },
  {
   "cell_type": "code",
   "execution_count": 32,
   "id": "fab52dfb-0ff8-465e-b2c3-aab0235d1b30",
   "metadata": {},
   "outputs": [
    {
     "name": "stdout",
     "output_type": "stream",
     "text": [
      "First 3 students: ('Wahaj', 'Muqeet', 'Abdullah')\n",
      "Students from index: ('Abdullah', 'Moheed', 'Shoaib')\n",
      "Last 2 students: ('Shoaib', 'Muqeet')\n",
      "Reverse order: ('Muqeet', 'Shoaib', 'Moheed', 'Abdullah', 'Muqeet', 'Wahaj')\n"
     ]
    }
   ],
   "source": [
    "print(\"First 3 students:\", students_tuple[0:3])\n",
    "print(\"Students from index:\", students_tuple[2:5])\n",
    "print(\"Last 2 students:\", students_tuple[-2:])\n",
    "print(\"Reverse order:\", students_tuple[::-1])"
   ]
  },
  {
   "cell_type": "code",
   "execution_count": 33,
   "id": "e2e6b5d4-10ac-4924-aa2e-e782afd49cc1",
   "metadata": {},
   "outputs": [
    {
     "name": "stdout",
     "output_type": "stream",
     "text": [
      "Total number of students: 6\n"
     ]
    }
   ],
   "source": [
    "print(\"Total number of students:\", len(students_tuple))"
   ]
  },
  {
   "cell_type": "markdown",
   "id": "72234779-5d17-4ac0-a21c-bf651b598890",
   "metadata": {},
   "source": [
    "#### Create a student set of names and apply all methods that we learn today"
   ]
  },
  {
   "cell_type": "code",
   "execution_count": 37,
   "id": "be655a7e-7254-4c73-a36a-6ce27bcf3ae3",
   "metadata": {},
   "outputs": [
    {
     "name": "stdout",
     "output_type": "stream",
     "text": [
      "Student set: {'Wahaj', 'Muqeet', 'Shoaib', 'Abdullah', 'Moheed'}\n",
      "Type: <class 'set'>\n",
      "ID: 2633754467616\n"
     ]
    }
   ],
   "source": [
    "students_set = {\"Wahaj\", \"Muqeet\", \"Abdullah\", \"Moheed\", \"Shoaib\"}\n",
    "print(\"Student set:\", students_set)\n",
    "print(\"Type:\", type(students_set))\n",
    "print(\"ID:\", id(students_set))"
   ]
  },
  {
   "cell_type": "code",
   "execution_count": 38,
   "id": "41547956-9070-46fd-b417-bd3551aa5778",
   "metadata": {},
   "outputs": [
    {
     "name": "stdout",
     "output_type": "stream",
     "text": [
      "Add: {'Wahaj', 'Muqeet', 'Shoaib', 'Tahir', 'Abdullah', 'Moheed'}\n"
     ]
    }
   ],
   "source": [
    "students_set.add(\"Tahir\")\n",
    "print(\"Add:\", students_set)"
   ]
  },
  {
   "cell_type": "code",
   "execution_count": 39,
   "id": "a8b24880-d0e6-48df-8107-909326fe7d2f",
   "metadata": {},
   "outputs": [
    {
     "name": "stdout",
     "output_type": "stream",
     "text": [
      "Update: {'w', 'a', 'Shoaib', 'D', 's', 'Q', 'o', 'm', 'Wahaj', 'Muqeet', 'i', 'd', 'Tahir', 'Abdullah', 'Moheed'}\n"
     ]
    }
   ],
   "source": [
    "students_set.update(\"Qasim\", \"Dawood\")\n",
    "print(\"Update:\", students_set)"
   ]
  },
  {
   "cell_type": "code",
   "execution_count": 40,
   "id": "7a37d9d0-236b-4f3c-8667-2f27529d688c",
   "metadata": {},
   "outputs": [
    {
     "name": "stdout",
     "output_type": "stream",
     "text": [
      "Set A: {'Wahaj', 'Muqeet'}\n",
      "Set B: {'Lahore', 'Karachi'}\n"
     ]
    }
   ],
   "source": [
    "set_a = {\"Wahaj\", \"Muqeet\"}\n",
    "set_b = {\"Karachi\", \"Lahore\"}\n",
    "print(\"Set A:\", set_a)\n",
    "print(\"Set B:\", set_b)"
   ]
  },
  {
   "cell_type": "code",
   "execution_count": 41,
   "id": "11d0c777-354c-4096-b2f3-d6dbc3f87c90",
   "metadata": {},
   "outputs": [
    {
     "name": "stdout",
     "output_type": "stream",
     "text": [
      "students_set.difference: {'w', 'a', 'Shoaib', 'i', 'd', 'Tahir', 'D', 'Abdullah', 'Moheed', 's', 'Q', 'o', 'm'}\n"
     ]
    }
   ],
   "source": [
    "diff_result = students_set.difference(set_a)\n",
    "print(\"students_set.difference:\", diff_result)"
   ]
  },
  {
   "cell_type": "code",
   "execution_count": 42,
   "id": "91e66cdf-e66c-4058-b109-3b0e61b50428",
   "metadata": {},
   "outputs": [
    {
     "name": "stdout",
     "output_type": "stream",
     "text": [
      "After difference_update: {'w', 'a', 'Shoaib', 'D', 's', 'Q', 'o', 'm', 'Wahaj', 'Muqeet', 'i', 'd', 'Tahir', 'Abdullah', 'Moheed'}\n"
     ]
    }
   ],
   "source": [
    "students_set.difference_update(set_b)\n",
    "print(\"After difference_update:\", students_set)"
   ]
  },
  {
   "cell_type": "code",
   "execution_count": 43,
   "id": "383c3f00-ad35-4a6b-b57f-b9304db70318",
   "metadata": {},
   "outputs": [
    {
     "name": "stdout",
     "output_type": "stream",
     "text": [
      "After discard: {'w', 'a', 'Shoaib', 'D', 's', 'Q', 'o', 'm', 'Wahaj', 'Muqeet', 'i', 'd', 'Abdullah', 'Moheed'}\n"
     ]
    }
   ],
   "source": [
    "students_set.discard(\"Tahir\")\n",
    "print(\"After discard:\", students_set)"
   ]
  },
  {
   "cell_type": "code",
   "execution_count": 44,
   "id": "876e43fd-d9e7-4a3f-a799-4ab7269cf175",
   "metadata": {},
   "outputs": [
    {
     "name": "stdout",
     "output_type": "stream",
     "text": [
      "students_set.intersection: {'Wahaj', 'Muqeet'}\n"
     ]
    }
   ],
   "source": [
    "intersection_result = students_set.intersection(set_a)\n",
    "print(\"students_set.intersection:\", intersection_result)"
   ]
  },
  {
   "cell_type": "code",
   "execution_count": 45,
   "id": "be67a4dc-6038-4bdc-ae17-a90a34144f4d",
   "metadata": {},
   "outputs": [
    {
     "name": "stdout",
     "output_type": "stream",
     "text": [
      "After intersection_update: {'Wahaj', 'Muqeet'}\n"
     ]
    }
   ],
   "source": [
    "students_set.intersection_update(set_a)\n",
    "print(\"After intersection_update:\", students_set)"
   ]
  },
  {
   "cell_type": "code",
   "execution_count": 46,
   "id": "a8574ced-65f6-461b-b35b-daea50a76603",
   "metadata": {},
   "outputs": [
    {
     "name": "stdout",
     "output_type": "stream",
     "text": [
      "Reset students_set: {'Wahaj', 'Muqeet', 'Abdullah', 'Moheed'}\n"
     ]
    }
   ],
   "source": [
    "students_set = {\"Wahaj\", \"Muqeet\", \"Abdullah\", \"Moheed\"}\n",
    "print(\"Reset students_set:\", students_set)"
   ]
  },
  {
   "cell_type": "code",
   "execution_count": 47,
   "id": "1890e9d7-d233-409d-8a21-57f7b0ced09a",
   "metadata": {},
   "outputs": [
    {
     "name": "stdout",
     "output_type": "stream",
     "text": [
      "students_set.isdisjoint: True\n"
     ]
    }
   ],
   "source": [
    "is_disjoint = students_set.isdisjoint(set_b)\n",
    "print(\"students_set.isdisjoint:\", is_disjoint)"
   ]
  },
  {
   "cell_type": "code",
   "execution_count": 48,
   "id": "3d6cf4da-575d-4c5b-a104-b36abad0c3f7",
   "metadata": {},
   "outputs": [
    {
     "name": "stdout",
     "output_type": "stream",
     "text": [
      "set_a.issubset: True\n"
     ]
    }
   ],
   "source": [
    "is_subset = set_a.issubset(students_set)\n",
    "print(\"set_a.issubset:\", is_subset)"
   ]
  },
  {
   "cell_type": "code",
   "execution_count": 49,
   "id": "c11cd735-f130-494e-b465-51b59f268db9",
   "metadata": {},
   "outputs": [
    {
     "name": "stdout",
     "output_type": "stream",
     "text": [
      "students_set.issuperset: True\n"
     ]
    }
   ],
   "source": [
    "is_superset = students_set.issuperset(set_a)\n",
    "print(\"students_set.issuperset:\", is_superset)"
   ]
  },
  {
   "cell_type": "code",
   "execution_count": 50,
   "id": "7257f9a6-d051-4aee-89cf-777c9ed204d0",
   "metadata": {},
   "outputs": [
    {
     "name": "stdout",
     "output_type": "stream",
     "text": [
      "After pop: {'Muqeet', 'Abdullah', 'Moheed'}\n",
      "Popped element: Wahaj\n"
     ]
    }
   ],
   "source": [
    "popped_element = students_set.pop()\n",
    "print(\"After pop:\", students_set)\n",
    "print(\"Popped element:\", popped_element)"
   ]
  },
  {
   "cell_type": "code",
   "execution_count": 51,
   "id": "68ca02f4-57d8-4a6a-b2c4-8a96a02d0971",
   "metadata": {},
   "outputs": [
    {
     "name": "stdout",
     "output_type": "stream",
     "text": [
      "After remove: {'Abdullah', 'Moheed'}\n"
     ]
    }
   ],
   "source": [
    "students_set.remove(\"Muqeet\")\n",
    "print(\"After remove:\", students_set)"
   ]
  },
  {
   "cell_type": "code",
   "execution_count": 52,
   "id": "763cfcf2-9ca1-4c44-b1f5-e73525f438bc",
   "metadata": {},
   "outputs": [
    {
     "name": "stdout",
     "output_type": "stream",
     "text": [
      "symmetric_difference result: {'Wahaj', 'Muqeet', 'Shoaib', 'Abdullah', 'Moheed'}\n"
     ]
    }
   ],
   "source": [
    "students_set.add(\"Shoaib\")\n",
    "sym_diff = students_set.symmetric_difference(set_a)\n",
    "print(\"symmetric_difference result:\", sym_diff)"
   ]
  },
  {
   "cell_type": "code",
   "execution_count": 53,
   "id": "92470a88-8690-4281-b723-0abfa5ec830f",
   "metadata": {},
   "outputs": [
    {
     "name": "stdout",
     "output_type": "stream",
     "text": [
      "After symmetric_difference_update: {'Wahaj', 'Muqeet', 'Shoaib', 'Abdullah', 'Moheed'}\n"
     ]
    }
   ],
   "source": [
    "students_set.symmetric_difference_update(set_a)\n",
    "print(\"After symmetric_difference_update:\", students_set)"
   ]
  },
  {
   "cell_type": "code",
   "execution_count": 54,
   "id": "9f53049b-e3e2-40f1-ae95-aefa5a2ee106",
   "metadata": {},
   "outputs": [
    {
     "name": "stdout",
     "output_type": "stream",
     "text": [
      "union with: {'Wahaj', 'Muqeet', 'Lahore', 'Shoaib', 'Karachi', 'Abdullah', 'Moheed'}\n"
     ]
    }
   ],
   "source": [
    "union_result = students_set.union(set_b)\n",
    "print(\"union with:\", union_result)"
   ]
  },
  {
   "cell_type": "code",
   "execution_count": null,
   "id": "8da9446d-7f00-4c9e-8a3a-20b1190fcc63",
   "metadata": {},
   "outputs": [],
   "source": []
  }
 ],
 "metadata": {
  "kernelspec": {
   "display_name": "Python 3 (ipykernel)",
   "language": "python",
   "name": "python3"
  },
  "language_info": {
   "codemirror_mode": {
    "name": "ipython",
    "version": 3
   },
   "file_extension": ".py",
   "mimetype": "text/x-python",
   "name": "python",
   "nbconvert_exporter": "python",
   "pygments_lexer": "ipython3",
   "version": "3.13.5"
  }
 },
 "nbformat": 4,
 "nbformat_minor": 5
}
